{
 "cells": [
  {
   "cell_type": "code",
   "execution_count": 25,
   "id": "d661d751",
   "metadata": {},
   "outputs": [],
   "source": [
    "import sys\n",
    "import os\n",
    "import importlib\n",
    "import pandas as pd\n",
    "\n",
    "sys.path.append('../shared')\n",
    "\n",
    "if 'nlp_methods' in sys.modules:\n",
    "    importlib.reload(sys.modules['nlp_methods'])\n",
    "\n",
    "from nlp_methods import NLPMethods"
   ]
  },
  {
   "cell_type": "markdown",
   "id": "a0bd8fb7",
   "metadata": {},
   "source": [
    "## Task 1.2: Text Preprocessing\n",
    "- Load and combine your text(s) into a single corpus\n",
    "- Remove Project Gutenberg headers and footers from each text"
   ]
  },
  {
   "cell_type": "code",
   "execution_count": 26,
   "id": "5412cb6c",
   "metadata": {},
   "outputs": [],
   "source": [
    "nlp_methods = NLPMethods(\"https://www.gutenberg.org/cache/epub/2500/pg2500.txt\")\n",
    "\n",
    "clean_corpus = nlp_methods.remove_gutenberg_header()"
   ]
  },
  {
   "cell_type": "markdown",
   "id": "69dc26f1",
   "metadata": {},
   "source": [
    "## Task 1.3: Regex Pattern Analysis\n",
    "\n",
    "### Dialogue extraction\n",
    "- Count total dialogue instances\n",
    "- Extract the longest piece of dialogue and count its length\n",
    "\n",
    "### Chapters\n",
    "- Find all chapter names in each book and store them in a data frame\n"
   ]
  },
  {
   "cell_type": "code",
   "execution_count": null,
   "id": "3b5fcbb4",
   "metadata": {},
   "outputs": [
    {
     "name": "stdout",
     "output_type": "stream",
     "text": [
      "Number of quotes found: 372\n",
      "Longest dialogue instance (2204 characters):\n",
      "\"Listen well, my dear, listen well! The sinner, which I am and which\n",
      "you are, is a sinner, but in times to come he will be Brahma again, he\n",
      "will reach the Nirvana, will be Buddha—and now see: these ‘times to\n",
      "come’ are a deception, are only a parable! The sinner is not on his way\n",
      "to become a Buddha, he is not in the process of developing, though our\n",
      "capacity for thinking does not know how else to picture these things.\n",
      "No, within the sinner is now and today already the future Buddha, his\n",
      "future is already all there, you have to worship in him, in you, in\n",
      "everyone the Buddha which is coming into being, the possible, the\n",
      "hidden Buddha. The world, my friend Govinda, is not imperfect, or on a\n",
      "slow path towards perfection: no, it is perfect in every moment, all\n",
      "sin already carries the divine forgiveness in itself, all small\n",
      "children already have the old person in themselves, all infants already\n",
      "have death, all dying people the eternal life. It is not possible for\n",
      "any person to see how far another one has already progressed on his\n",
      "path; in the robber and dice-gambler, the Buddha is waiting; in the\n",
      "Brahman, the robber is waiting. In deep meditation, there is the\n",
      "possibility to put time out of existence, to see all life which was,\n",
      "is, and will be as if it was simultaneous, and there everything is\n",
      "good, everything is perfect, everything is Brahman. Therefore, I see\n",
      "whatever exists as good, death is to me like life, sin like holiness,\n",
      "wisdom like foolishness, everything has to be as it is, everything only\n",
      "requires my consent, only my willingness, my loving agreement, to be\n",
      "good for me, to do nothing but work for my benefit, to be unable to\n",
      "ever harm me. I have experienced on my body and on my soul that I\n",
      "needed sin very much, I needed lust, the desire for possessions,\n",
      "vanity, and needed the most shameful despair, in order to learn how to\n",
      "give up all resistance, in order to learn how to love the world, in\n",
      "order to stop comparing it to some world I wished, I imagined, some\n",
      "kind of perfection I had made up, but to leave it as it is and to love\n",
      "it and to enjoy being a part of it.—These, oh Govinda, are some of the\n",
      "thoughts which have come into my mind.\"\n",
      "______________________________________________________________________\n",
      "['THE SON OF THE BRAHMAN', 'WITH THE SAMANAS', 'GOTAMA', 'AWAKENING', 'KAMALA', 'WITH THE CHILDLIKE PEOPLE', 'SANSARA', 'BY THE RIVER', 'THE FERRYMAN', 'THE SON', 'OM', 'GOVINDA']\n"
     ]
    },
    {
     "data": {
      "text/html": [
       "<div>\n",
       "<style scoped>\n",
       "    .dataframe tbody tr th:only-of-type {\n",
       "        vertical-align: middle;\n",
       "    }\n",
       "\n",
       "    .dataframe tbody tr th {\n",
       "        vertical-align: top;\n",
       "    }\n",
       "\n",
       "    .dataframe thead th {\n",
       "        text-align: right;\n",
       "    }\n",
       "</style>\n",
       "<table border=\"1\" class=\"dataframe\">\n",
       "  <thead>\n",
       "    <tr style=\"text-align: right;\">\n",
       "      <th></th>\n",
       "      <th>0</th>\n",
       "    </tr>\n",
       "  </thead>\n",
       "  <tbody>\n",
       "    <tr>\n",
       "      <th>1</th>\n",
       "      <td>THE SON OF THE BRAHMAN</td>\n",
       "    </tr>\n",
       "    <tr>\n",
       "      <th>2</th>\n",
       "      <td>WITH THE SAMANAS</td>\n",
       "    </tr>\n",
       "    <tr>\n",
       "      <th>3</th>\n",
       "      <td>GOTAMA</td>\n",
       "    </tr>\n",
       "    <tr>\n",
       "      <th>4</th>\n",
       "      <td>AWAKENING</td>\n",
       "    </tr>\n",
       "    <tr>\n",
       "      <th>5</th>\n",
       "      <td>KAMALA</td>\n",
       "    </tr>\n",
       "    <tr>\n",
       "      <th>6</th>\n",
       "      <td>WITH THE CHILDLIKE PEOPLE</td>\n",
       "    </tr>\n",
       "    <tr>\n",
       "      <th>7</th>\n",
       "      <td>SANSARA</td>\n",
       "    </tr>\n",
       "    <tr>\n",
       "      <th>8</th>\n",
       "      <td>BY THE RIVER</td>\n",
       "    </tr>\n",
       "    <tr>\n",
       "      <th>9</th>\n",
       "      <td>THE FERRYMAN</td>\n",
       "    </tr>\n",
       "    <tr>\n",
       "      <th>10</th>\n",
       "      <td>THE SON</td>\n",
       "    </tr>\n",
       "    <tr>\n",
       "      <th>11</th>\n",
       "      <td>OM</td>\n",
       "    </tr>\n",
       "    <tr>\n",
       "      <th>12</th>\n",
       "      <td>GOVINDA</td>\n",
       "    </tr>\n",
       "  </tbody>\n",
       "</table>\n",
       "</div>"
      ],
      "text/plain": [
       "                            0\n",
       "1      THE SON OF THE BRAHMAN\n",
       "2            WITH THE SAMANAS\n",
       "3                      GOTAMA\n",
       "4                   AWAKENING\n",
       "5                      KAMALA\n",
       "6   WITH THE CHILDLIKE PEOPLE\n",
       "7                     SANSARA\n",
       "8                BY THE RIVER\n",
       "9                THE FERRYMAN\n",
       "10                    THE SON\n",
       "11                         OM\n",
       "12                    GOVINDA"
      ]
     },
     "execution_count": 27,
     "metadata": {},
     "output_type": "execute_result"
    }
   ],
   "source": [
    "# Print count of total dialogue instances\n",
    "# Extract the longest piece of dialogue and count its length and print it\n",
    "corpus_data = nlp_methods.get_processed_text(clean_corpus)\n",
    "\n",
    "print(\"______________________________________________________________________\")\n",
    "\n",
    "chapters = nlp_methods.get_chapters(clean_corpus)\n",
    "print(chapters)\n",
    "chapters_df = pd.DataFrame(chapters, columns=['Chapter'])\n",
    "chapters_df = chapters_df.set_axis(range(1, len(chapters_df) + 1))\n",
    "chapters_df"
   ]
  },
  {
   "cell_type": "markdown",
   "id": "5b70224a",
   "metadata": {},
   "source": [
    "## (Optional, if you want to take it further): Analyze dialogue vs. narrative ratio"
   ]
  },
  {
   "cell_type": "code",
   "execution_count": 28,
   "id": "e4157c19",
   "metadata": {},
   "outputs": [
    {
     "name": "stderr",
     "output_type": "stream",
     "text": [
      "/var/folders/02/c1hvrmj11kx0z457p84l6pbc0000gn/T/ipykernel_38210/3749549574.py:27: FutureWarning: \n",
      "\n",
      "Passing `palette` without assigning `hue` is deprecated and will be removed in v0.14.0. Assign the `y` variable to `hue` and set `legend=False` for the same effect.\n",
      "\n",
      "  ax = sns.barplot(data=plot_data, y='Content_Type', x='Percentage', orient='h',\n"
     ]
    },
    {
     "data": {
      "image/png": "[encoded data removed]",
      "text/plain": [
       "<Figure size 800x600 with 1 Axes>"
      ]
     },
     "metadata": {},
     "output_type": "display_data"
    },
    {
     "name": "stdout",
     "output_type": "stream",
     "text": [
      "\n",
      "📊 QUOTES VS NARRATIVE ANALYSIS\n",
      "========================================\n",
      "Total sentences: 2,134\n",
      "Dialogue Instances: 372 (17.4%)\n",
      "Narrative sentences: 1,762 (82.6%)\n",
      "\n",
      "Total tokens: 39,799\n",
      "Quote tokens: 0\n",
      "Narrative tokens: 39,799\n",
      "\n",
      "Ratio of narrative to quotes: 4.7:1\n"
     ]
    }
   ],
   "source": [
    "# Plot quotes vs narrative comparison using seaborn\n",
    "import seaborn as sns\n",
    "import matplotlib.pyplot as plt\n",
    "import pandas as pd\n",
    "\n",
    "# Extract quote vs narrative data from corpus_data\n",
    "quotes = len(corpus_data['quotes'])\n",
    "non_quote_sentences = len(corpus_data['non_quote_sentences'])\n",
    "quote_tokens = len(corpus_data['quote_tokens'])\n",
    "non_quote_tokens = len(corpus_data['non_quote_tokens'])\n",
    "\n",
    "# Calculate percentages\n",
    "quote_percentage = (quotes / (quotes + non_quote_sentences)) * 100\n",
    "narrative_percentage = (non_quote_sentences / (quotes + non_quote_sentences)) * 100\n",
    "\n",
    "# Prepare data for seaborn\n",
    "plot_data = pd.DataFrame({\n",
    "    'Content_Type': ['Quotes', 'Narrative'],\n",
    "    'Percentage': [quote_percentage, narrative_percentage]\n",
    "})\n",
    "\n",
    "# Create seaborn plot\n",
    "plt.figure(figsize=(8, 6))\n",
    "sns.set_style(\"whitegrid\")\n",
    "\n",
    "# Create horizontal bar plot with custom colors\n",
    "ax = sns.barplot(data=plot_data, y='Content_Type', x='Percentage', orient='h', \n",
    "                 palette=['#ff9999', '#66b3ff'])\n",
    "\n",
    "# Customize the plot\n",
    "ax.set_title('Percentage of Content Type', fontsize=16, fontweight='bold', pad=20)\n",
    "ax.set_xlabel('Percentage (%)', fontsize=12, fontweight='bold')\n",
    "ax.set_ylabel('Content Type', fontsize=12, fontweight='bold')\n",
    "\n",
    "# Add value labels on bars\n",
    "for i, (bar, pct) in enumerate(zip(ax.patches, [quote_percentage, narrative_percentage])):\n",
    "    ax.text(bar.get_width() + 0.1, bar.get_y() + bar.get_height()/2, \n",
    "            f'{pct:.1f}%', ha='left', va='center', fontweight='bold')\n",
    "\n",
    "plt.tight_layout()\n",
    "plt.show()\n",
    "\n",
    "# Print additional insights\n",
    "print(f\"\\n📊 QUOTES VS NARRATIVE ANALYSIS\")\n",
    "print(f\"=\" * 40)\n",
    "print(f\"Total sentences: {quotes + non_quote_sentences:,}\")\n",
    "print(f\"Dialogue Instances: {quotes:,} ({quote_percentage:.1f}%)\")\n",
    "print(f\"Narrative sentences: {non_quote_sentences:,} ({narrative_percentage:.1f}%)\")\n",
    "print(f\"\\nTotal tokens: {quote_tokens + non_quote_tokens:,}\")\n",
    "print(f\"Quote tokens: {quote_tokens:,}\")\n",
    "print(f\"Narrative tokens: {non_quote_tokens:,}\")\n",
    "print(f\"\\nRatio of narrative to quotes: {non_quote_sentences/quotes:.1f}:1\")\n"
   ]
  },
  {
   "cell_type": "markdown",
   "id": "8a59dc06",
   "metadata": {},
   "source": [
    "## AI assistance \n",
    "**Prompt:** Can we change this to a seaborn plot\n",
    "**Response:** Now I'll convert the matplotlib plot to use seaborn. I can see that seaborn is already imported in cell 1, so I'll update cell 2 to use seaborn's barplot functionality."
   ]
  }
 ],
 "metadata": {
  "kernelspec": {
   "display_name": "base",
   "language": "python",
   "name": "python3"
  },
  "language_info": {
   "codemirror_mode": {
    "name": "ipython",
    "version": 3
   },
   "file_extension": ".py",
   "mimetype": "text/x-python",
   "name": "python",
   "nbconvert_exporter": "python",
   "pygments_lexer": "ipython3",
   "version": "3.13.5"
  }
 },
 "nbformat": 4,
 "nbformat_minor": 5
}
