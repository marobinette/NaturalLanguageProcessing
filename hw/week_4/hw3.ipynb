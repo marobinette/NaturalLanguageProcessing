{
 "cells": [
  {
   "cell_type": "code",
   "execution_count": 37,
   "id": "14e81e06",
   "metadata": {},
   "outputs": [
    {
     "name": "stderr",
     "output_type": "stream",
     "text": [
      "[nltk_data] Downloading package punkt to\n",
      "[nltk_data]     /Users/marobinette/nltk_data...\n",
      "[nltk_data]   Package punkt is already up-to-date!\n"
     ]
    },
    {
     "name": "stdout",
     "output_type": "stream",
     "text": [
      "hello from class\n",
      "Number of sentences: 1857\n",
      "Number of quotes found: 372\n",
      "Quote sentences: 95\n",
      "Non-quote sentences: 1762\n",
      "Quote tokens: 0\n",
      "Non-quote tokens: 39799\n",
      "{'random_sample': {'count': 8, 'avg_tokens': 3227.75, 'avg_words': 3179.5, 'avg_chars': 17862.0}, 'systematic_sample': {'count': 8, 'avg_tokens': 3227.75, 'avg_words': 3179.5, 'avg_chars': 17862.0}, 'differences': {'token_diff': 0.0, 'word_diff': 0.0, 'char_diff': 0.0}}\n"
     ]
    }
   ],
   "source": [
    "import sys\n",
    "import importlib\n",
    "import nltk\n",
    "\n",
    "nltk.download('punkt') # Example download\n",
    "\n",
    "# Add the shared folder to path\n",
    "sys.path.append('../shared')\n",
    "\n",
    "# Force reload the module to get the latest changes\n",
    "if 'NLPMethods' in sys.modules:\n",
    "    importlib.reload(sys.modules['NLPMethods'])\n",
    "\n",
    "from NLPMethods import NLPMethods\n",
    "\n",
    "# Create an instance of the NLPMethods class\n",
    "nlp_methods = NLPMethods()\n",
    "\n",
    "# Call the hello_from_class method\n",
    "nlp_methods.hello_from_class()\n",
    "\n",
    "clean_corpus = nlp_methods.remove_gutenberg_header(\"https://www.gutenberg.org/cache/epub/2500/pg2500.txt\")\n",
    "\n",
    "# Fetch the corpus and store the results\n",
    "corpus_data = nlp_methods.fetch_corpus(clean_corpus)\n",
    "\n",
    "# print(corpus_data['quote_sentences'])\n",
    "chapters = nlp_methods.get_chapters(clean_corpus)\n",
    "chapters_data = nlp_methods.get_chapter_data(chapters, clean_corpus)\n",
    "chapters_df = nlp_methods.chapters_to_dataframe(chapters_data)\n",
    "random_sample = nlp_methods.get_random_sample_chapter_data(chapters, clean_corpus)\n",
    "systematic_sample = nlp_methods.get_systematic_sample_chapter_data(chapters, clean_corpus)\n",
    "print(nlp_methods.compare_sample_lengths(random_sample, systematic_sample))"
   ]
  }
 ],
 "metadata": {
  "kernelspec": {
   "display_name": "base",
   "language": "python",
   "name": "python3"
  },
  "language_info": {
   "codemirror_mode": {
    "name": "ipython",
    "version": 3
   },
   "file_extension": ".py",
   "mimetype": "text/x-python",
   "name": "python",
   "nbconvert_exporter": "python",
   "pygments_lexer": "ipython3",
   "version": "3.13.5"
  }
 },
 "nbformat": 4,
 "nbformat_minor": 5
}
