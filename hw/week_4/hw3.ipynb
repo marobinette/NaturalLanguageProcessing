{
 "cells": [
  {
   "cell_type": "code",
   "execution_count": 3,
   "id": "14e81e06",
   "metadata": {},
   "outputs": [
    {
     "name": "stderr",
     "output_type": "stream",
     "text": [
      "[nltk_data] Downloading package punkt to\n",
      "[nltk_data]     /Users/marobinette/nltk_data...\n",
      "[nltk_data]   Package punkt is already up-to-date!\n"
     ]
    },
    {
     "name": "stdout",
     "output_type": "stream",
     "text": [
      "hello from class\n",
      "Number of sentences: 2080\n",
      "Number of quotes found: 383\n",
      "Quote sentences: 104\n",
      "Non-quote sentences: 1976\n",
      "Quote tokens: 0\n",
      "Non-quote tokens: 42935\n",
      "['“Your soul is the whole world”, was written there, and it was written that man in his sleep, in his deep sleep, would meet with his innermost part and would reside in the Atman', '“Govinda,” Siddhartha spoke to his friend, “Govinda, my dear, come with me under the Banyan tree, let’s practise meditation', '“O Siddhartha,” he exclaimed, “will your father permit you to do that', '“O Govinda,” he spoke quietly, “let’s not waste words', '“Siddhartha,” he spoke, “what are you waiting for', '“You will,” he spoke, “go into the forest and be a Samana', '“You have come,” said Siddhartha and smiled', '“I have come,” said Govinda', '“How do you think, Govinda,” Siddhartha spoke one day while begging this way, “how do you think did we progress', '” “If you only,” spoke Govinda, “wouldn’t speak such terrible words, Siddhartha', '“Oh Siddhartha,” Govinda spoke one day to his friend', '” “I do not seek to walk on water,” said Siddhartha', '“Today, we’ll hear the teachings from his mouth,” said Govinda', '” Behold, then Govinda, the shy one, also stepped forward and spoke: “I also take my refuge in the exalted one and his teachings,” and he asked to be accepted into the community of his disciples and was accepted', '” “As you please,” the venerable one spoke politely', '“Too bold is my speech,” Siddhartha continued, “but I do not want to leave the exalted one without having honestly told him my thoughts', '” “I wish that you, oh exalted one, would not be angry with me,” said the young man', '“I wish,” the venerable one spoke slowly, “that your thoughts shall not be in error, that you shall reach the goal', '” “Far is such a thought from my mind,” exclaimed Siddhartha', '“You are wise, oh Samana,” the venerable one spoke', '“Oh,” he thought, taking a deep breath, “now I would not let Siddhartha escape from me again', '“This is a beautiful river,” he said to his companion', '“Yes,” said the ferryman, “a very beautiful river, I love it more than anything', '” “I thank you, my benefactor,” spoke Siddhartha, disembarking on the other side of the river', '” “I did see it,” spoke the ferryman, “and I haven’t expected any payment from you and no gift which would be the custom for guests to bear', '“He is like Govinda,” he thought with a smile, “all I meet on my path are like Govinda', 'While talking, she put her left foot on his right one and made a movement as a woman does who would want to initiate that kind of sexual pleasure with a man, which the textbooks call “climbing a tree”', '” “Yes, I have marked your words,” Siddhartha exclaimed', '“Very beautiful are your verses,” exclaimed Kamala, “if I was rich, I would give you pieces of gold for them', '” “I also know the sacrificial songs,” said Siddhartha, “but I do not want to sing them any more', 'I have read the scriptures—” “Stop,” Kamala interrupted him', '“There’s a visitor for me,” exclaimed Kamala', '“Simple is the life which people lead in this world here,” thought Siddhartha', '“Things are working out well,” she called out to him', '“You’ve been lucky,” she said when they parted, “I’m opening one door after another for you', '” “Well yes,” she admitted', '” “Dear Kamala,” said Siddhartha and straightened up to his full height, “when I came to you into your grove, I did the first step', '“Perhaps it is so,” she said quietly, “as you say, friend', '“I have been told,” the merchant began, “that you were a Brahman, a learned man, but that you seek to be in the service of a merchant', '” “No,” said Siddhartha, “I have not become destitute and have never been destitute', '” “I am without possessions,” said Siddhartha, “if this is what you mean', '“Excellent,” said Kamaswami', '” “It is excellent how you’re able to write,” the merchant praised him', '“This Brahman,” he said to a friend, “is no proper merchant and will never be one, there is never any passion in his soul when he conducts our business', '” “That’s all very nice,” exclaimed Kamaswami indignantly, “but in fact, you are a merchant after all, one ought to think', '” “Surely,” Siddhartha laughed, “surely I have travelled for my amusement', '” “Not all people are smart,” said Kamala', '“No,” said Siddhartha, “that’s not the reason why', '“Again, you’re talking about him,” she said, “again, you’re having a Samana’s thoughts', '“You are the best lover,” she said thoughtfully, “I ever saw', '” “It might very well be so,” Siddhartha said tiredly', 'It was a word, a syllable, which he, without thinking, with a slurred voice, spoke to himself, the old word which is the beginning and the end of all prayers of the Brahmans, the holy “Om”, which roughly means “that what is perfect” or “the completion”', 'And in the moment when the sound of “Om” touched Siddhartha’s ear, his dormant spirit suddenly woke up and realized the foolishness of his actions', '“I have been sleeping,” said Siddhartha', '” “You have been sleeping,” answered Govinda', '” “I thank you, Samana, for watching out over my sleep,” spoke Siddhartha', '” “Farewell, Govinda,” said Siddhartha', '” “You’re Siddhartha,” Govinda exclaimed loudly', '” “You’re on a pilgrimage,” said Govinda', 'But it was right so, my heart says “Yes” to it, my eyes smile to it', '“It is good,” he thought, “to get a taste of everything for oneself, which one needs to know', '“It’s a beautiful life you have chosen for yourself,” the passenger spoke', '” “You’re joking, sir,” the ferryman laughed', '“Now I recognise you,” he finally said', '” “I thank you,” said Siddhartha, “I thank you and accept', '” “You will learn it,” spoke Vasudeva, “but not from me', '“It is late,” he said, “let’s go to sleep', '“Did you,” so he asked him at one time, “did you too learn that secret from the river: that there is no time', '“Yes, Siddhartha,” he spoke', '” “This it is,” said Siddhartha', '” “So it is,” Vasudeva nodded, “all voices of the creatures are in its voice', '” “And do you know,” Siddhartha continued, “what word it speaks, when you succeed in hearing all of its ten thousand voices at once', '“He’s with you, don’t worry,” said Siddhartha', '“You’ve become old, my dear,” she said, “you’ve become gray', '“She’ll die,” Siddhartha said quietly', '“I’m seeing it,” she said, “I’m seeing it', '” “You have found it,” Siddhartha spoke in a whisper', '“You haven’t slept,” he said', '“Pardon me,” he said, “from a friendly heart, I’m talking to you', '” “You’re seeing into my heart,” Siddhartha spoke sadly', '“You cannot love,” she had said to him, and he had agreed with her and had compared himself with a star, while comparing the childlike people with falling leaves, and nevertheless he had also sensed an accusation in that line', '“I must follow him,” said Siddhartha, who had been shivering with grief since those ranting speeches the boy had made yesterday', '” “We will build a raft,” said Vasudeva, “to get our boat back, which the boy has taken away', '“You’ve heard it laugh,” he said', '“Do you hear,” Vasudeva’s gaze asked again', '“I’ve known it,” he said quietly', '” “I’m going into the forests, I’m going into the oneness,” spoke Vasudeva with a bright smile', '” “It’s true, I’m old,” spoke Govinda, “but I haven’t stopped searching', '“When someone is searching,” said Siddhartha, “then it might easily happen that the only thing his eyes still see is that what he searches for, that he is unable to find anything, to let anything enter his mind, because he always thinks of nothing but the object of his search, because he has a goal, because he is obsessed by the goal', '” “I don’t quite understand yet,” asked Govinda, “what do you mean by this', '“This here,” he said playing with it, “is a stone, and will, after a certain time, perhaps turn into soil, and will turn from soil into a plant or animal or human being', '” “This too,” spoke Siddhartha, “I do not care very much about', '” “This I understand,” spoke Govinda', '” “I know it,” said Siddhartha; his smile shone golden', '“Siddhartha,” he spoke, “we have become old men', 'START: FULL LICENSE THE FULL PROJECT GUTENBERG LICENSE PLEASE READ THIS BEFORE YOU DISTRIBUTE OR USE THIS WORK To protect the Project Gutenberg™ mission of promoting the free distribution of electronic works, by using or distributing this work (or any other work associated in any way with the phrase “Project Gutenberg”), you agree to comply with all the terms of the Full Project Gutenberg™ License available with this file or online at www', '“Project Gutenberg” is a registered trademark', 'The Project Gutenberg Literary Archive Foundation (“the Foundation” or PGLAF), owns a compilation copyright in the collection of Project Gutenberg™ electronic works', 'The following sentence, with active links to, or other immediate access to, the full Project Gutenberg™ License must appear prominently whenever any copy of a Project Gutenberg™ work (any work on which the phrase “Project Gutenberg” appears, or with which the phrase “Project Gutenberg” is associated) is accessed, displayed, performed, viewed, copied or distributed: This eBook is for the use of anyone anywhere in the United States and most other parts of the world at no cost and with almost no restrictions whatsoever', 'If you are redistributing or providing access to a work with the phrase “Project Gutenberg” associated with or appearing on the work, you must comply either with the requirements of paragraphs 1', 'However, if you provide access to or distribute copies of a Project Gutenberg™ work in a format other than “Plain Vanilla ASCII” or other format used in the official version posted on the official Project Gutenberg™ website (www', 'org), you must, at no additional cost, fee or expense to the user, provide a copy, a means of exporting a copy, or a means of obtaining a copy upon request, of the work in its original “Plain Vanilla ASCII” or other form', 'Despite these efforts, Project Gutenberg™ electronic works, and the medium on which they may be stored, may contain “Defects,” such as, but not limited to, incomplete, inaccurate or corrupt data, transcription errors, a copyright or other intellectual property infringement, a defective or damaged disk or other medium, a computer virus, or computer codes that damage or cannot be read by your equipment', 'LIMITED WARRANTY, DISCLAIMER OF DAMAGES - Except for the “Right of Replacement or Refund” described in paragraph 1']\n"
     ]
    }
   ],
   "source": [
    "import sys\n",
    "import importlib\n",
    "import nltk\n",
    "\n",
    "nltk.download('punkt') # Example download\n",
    "\n",
    "# Add the shared folder to path\n",
    "sys.path.append('../shared')\n",
    "\n",
    "# Force reload the module to get the latest changes\n",
    "if 'NLPMethods' in sys.modules:\n",
    "    importlib.reload(sys.modules['NLPMethods'])\n",
    "\n",
    "from NLPMethods import NLPMethods\n",
    "\n",
    "# Create an instance of the NLPMethods class\n",
    "nlp_methods = NLPMethods()\n",
    "\n",
    "# Call the hello_from_class method\n",
    "nlp_methods.hello_from_class()\n",
    "\n",
    "# Fetch the corpus and store the results\n",
    "corpus_data = nlp_methods.fetch_corpus(\"https://www.gutenberg.org/cache/epub/2500/pg2500.txt\")\n",
    "\n",
    "print(corpus_data['quote_sentences'])\n"
   ]
  }
 ],
 "metadata": {
  "kernelspec": {
   "display_name": "base",
   "language": "python",
   "name": "python3"
  },
  "language_info": {
   "codemirror_mode": {
    "name": "ipython",
    "version": 3
   },
   "file_extension": ".py",
   "mimetype": "text/x-python",
   "name": "python",
   "nbconvert_exporter": "python",
   "pygments_lexer": "ipython3",
   "version": "3.13.5"
  }
 },
 "nbformat": 4,
 "nbformat_minor": 5
}
