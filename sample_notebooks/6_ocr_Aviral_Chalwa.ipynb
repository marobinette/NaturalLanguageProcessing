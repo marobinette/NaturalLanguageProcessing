{
 "cells": [
  {
   "cell_type": "code",
   "execution_count": null,
   "id": "c2328b08",
   "metadata": {},
   "outputs": [],
   "source": [
    "# !pip install paddleocr\n",
    "# !pip install pytesseract opencv-python-headless\n",
    "# !pip install pymupdf"
   ]
  },
  {
   "cell_type": "markdown",
   "id": "7943ee99",
   "metadata": {},
   "source": [
    "## Using PaddleOCR"
   ]
  },
  {
   "cell_type": "code",
   "execution_count": null,
   "id": "1a6cf784",
   "metadata": {},
   "outputs": [],
   "source": [
    "from paddleocr import PaddleOCR\n",
    "\n",
    "ocr = PaddleOCR(\n",
    "    use_doc_orientation_classify=False, \n",
    "    use_doc_unwarping=False, \n",
    "    use_textline_orientation=False)\n",
    "\n",
    "text = ocr.predict('sample.png')"
   ]
  },
  {
   "cell_type": "code",
   "execution_count": null,
   "id": "64cdfadf",
   "metadata": {},
   "outputs": [],
   "source": [
    "print(text[0]['rec_texts'])"
   ]
  },
  {
   "cell_type": "markdown",
   "id": "a9870b5f",
   "metadata": {},
   "source": [
    "## Using PyTesseract"
   ]
  },
  {
   "cell_type": "code",
   "execution_count": null,
   "id": "0a37c975",
   "metadata": {},
   "outputs": [],
   "source": [
    "try:\n",
    "    import Image\n",
    "except ImportError:\n",
    "    from PIL import Image\n",
    "import pytesseract"
   ]
  },
  {
   "cell_type": "code",
   "execution_count": null,
   "id": "378534fb",
   "metadata": {},
   "outputs": [],
   "source": [
    "image = Image.open('sample_tshirt.png')"
   ]
  },
  {
   "cell_type": "code",
   "execution_count": null,
   "id": "fbede9f6",
   "metadata": {},
   "outputs": [],
   "source": [
    "text = pytesseract.image_to_string(image)\n",
    "print(text)"
   ]
  },
  {
   "cell_type": "markdown",
   "id": "bd55ceb1",
   "metadata": {},
   "source": [
    "## Getting Bounding Boxes"
   ]
  },
  {
   "cell_type": "code",
   "execution_count": null,
   "id": "6d185ea4",
   "metadata": {},
   "outputs": [],
   "source": [
    "bboxes = pytesseract.image_to_boxes(image)\n",
    "print(bboxes)"
   ]
  },
  {
   "cell_type": "markdown",
   "id": "7cb6c73a",
   "metadata": {},
   "source": [
    "## Deep Diagnostic Data"
   ]
  },
  {
   "cell_type": "code",
   "execution_count": null,
   "id": "a4997cf6",
   "metadata": {},
   "outputs": [],
   "source": [
    "data = pytesseract.image_to_data(image)\n",
    "print(data)"
   ]
  },
  {
   "cell_type": "markdown",
   "id": "93b23cea",
   "metadata": {},
   "source": [
    "## Working with PDFs"
   ]
  },
  {
   "cell_type": "code",
   "execution_count": null,
   "id": "f634be2d",
   "metadata": {},
   "outputs": [],
   "source": [
    "import pymupdf"
   ]
  },
  {
   "cell_type": "code",
   "execution_count": null,
   "id": "f8aa55e3",
   "metadata": {},
   "outputs": [],
   "source": [
    "doc = pymupdf.open(\"sample.pdf\")\n",
    "print(\"Number of pages: {}\".format(len(doc)))\n",
    "print(\"Metadata: {}\".format(doc.metadata))"
   ]
  },
  {
   "cell_type": "code",
   "execution_count": null,
   "id": "05d9f804",
   "metadata": {},
   "outputs": [],
   "source": [
    "page = doc.load_page(10)\n",
    "text = page.get_text()\n",
    "print(text)"
   ]
  }
 ],
 "metadata": {
  "kernelspec": {
   "display_name": "cc",
   "language": "python",
   "name": "python3"
  },
  "language_info": {
   "codemirror_mode": {
    "name": "ipython",
    "version": 3
   },
   "file_extension": ".py",
   "mimetype": "text/x-python",
   "name": "python",
   "nbconvert_exporter": "python",
   "pygments_lexer": "ipython3",
   "version": "3.12.4"
  }
 },
 "nbformat": 4,
 "nbformat_minor": 5
}
