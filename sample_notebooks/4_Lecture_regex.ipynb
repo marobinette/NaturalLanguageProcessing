{
  "nbformat": 4,
  "nbformat_minor": 0,
  "metadata": {
    "colab": {
      "provenance": [],
      "toc_visible": true
    },
    "kernelspec": {
      "name": "python3",
      "display_name": "Python 3"
    },
    "language_info": {
      "name": "python"
    }
  },
  "cells": [
    {
      "cell_type": "markdown",
      "source": [
        "#imports"
      ],
      "metadata": {
        "id": "duRMQflnnsTh"
      }
    },
    {
      "cell_type": "code",
      "execution_count": null,
      "metadata": {
        "id": "K2bmDCFdnrIl"
      },
      "outputs": [],
      "source": [
        "import requests\n",
        "import re\n",
        "from bs4 import BeautifulSoup\n",
        "import bs4 as bs\n",
        "import pandas as pd\n",
        "import time\n",
        "import random\n",
        "import json\n",
        "import os\n",
        "from urllib.robotparser import RobotFileParser\n",
        "from datetime import datetime\n",
        "import urllib.request\n",
        "from pprint import pprint\n",
        "#ignore warnings\n",
        "import warnings\n",
        "warnings.filterwarnings('ignore')"
      ]
    },
    {
      "cell_type": "markdown",
      "source": [
        "#Scraping"
      ],
      "metadata": {
        "id": "8mu0wexXydYG"
      }
    },
    {
      "cell_type": "markdown",
      "source": [
        "##Setting up ethical scraping utils"
      ],
      "metadata": {
        "id": "wyost-BWdp6d"
      }
    },
    {
      "cell_type": "code",
      "source": [
        "def ethical_get(url, headers=None, delay=3, jitter=2):\n",
        "    print(f\"Preparing to request: {url}\")\n",
        "\n",
        "    # Default headers with a descriptive User-Agent\n",
        "    if headers is None:\n",
        "        headers = {\n",
        "            'User-Agent': 'EthicalScraper/1.0 (Educational Purpose; contact@example.edu)',\n",
        "        }\n",
        "        print(\"Using default headers.\")\n",
        "\n",
        "    # Check robots.txt\n",
        "    rp = RobotFileParser()\n",
        "    robot_url = f\"{requests.utils.urlparse(url).scheme}://{requests.utils.urlparse(url).netloc}/robots.txt\"\n",
        "    try:\n",
        "        print(f\"Fetching robots.txt from: {robot_url}\")\n",
        "        rp.set_url(robot_url)\n",
        "        rp.read()\n",
        "        print(\"robots.txt successfully read.\")\n",
        "\n",
        "        # Check if user agent is allowed to fetch the URL\n",
        "        if not rp.can_fetch(headers['User-Agent'], url):\n",
        "            print(f\"robots.txt disallows access to {url}\")\n",
        "            return None\n",
        "        else:\n",
        "            print(f\"robots.txt allows access to {url}\")\n",
        "    except Exception as e:\n",
        "        print(f\"Couldn't check robots.txt at {robot_url}, proceeding with caution: {e}\")\n",
        "\n",
        "    # Add a delay with jitter to avoid overwhelming the server\n",
        "    sleep_time = delay + random.uniform(0, jitter)\n",
        "    print(f\"Waiting for {sleep_time:.2f} seconds before sending request...\")\n",
        "    time.sleep(sleep_time)\n",
        "\n",
        "    # Make the request\n",
        "    try:\n",
        "        print(\"Sending HTTP GET request...\")\n",
        "        response = requests.get(url, headers=headers)\n",
        "\n",
        "        # Check response status\n",
        "        if response.status_code == 200:\n",
        "            print(f\"Request successful! Status code: {response.status_code}\")\n",
        "            return response\n",
        "        else:\n",
        "            print(f\"Request failed with status code: {response.status_code}\")\n",
        "            return None\n",
        "    except Exception as e:\n",
        "        print(f\"Request error: {e}\")\n",
        "        return None\n"
      ],
      "metadata": {
        "id": "ML8U9Wgwe0za"
      },
      "execution_count": null,
      "outputs": []
    },
    {
      "cell_type": "markdown",
      "source": [
        "# New Section"
      ],
      "metadata": {
        "id": "afRGbTMsyfTU"
      }
    },
    {
      "cell_type": "markdown",
      "source": [
        "##Scraping Tables Using pandas.read_html()\n"
      ],
      "metadata": {
        "id": "EahLfN36XNJG"
      }
    },
    {
      "cell_type": "code",
      "source": [
        "#scrape table from https://en.wikipedia.org/wiki/List_of_countries_and_dependencies_by_population\n",
        "url = 'https://en.wikipedia.org/wiki/List_of_countries_and_dependencies_by_population'\n",
        "response = ethical_get(url)\n",
        "print(response)\n",
        "if response: # Check if response is not None\n",
        "    tables = pd.read_html(response.text)\n",
        "    df = tables[0]\n",
        "    display(df.head()) # Use display for better formatting\n",
        "else:\n",
        "    print(\"Could not retrieve the page due to robots.txt restrictions.\")"
      ],
      "metadata": {
        "colab": {
          "base_uri": "https://localhost:8080/"
        },
        "id": "k816RZu9e0Wg",
        "outputId": "aadcc48f-e618-40b5-ffe1-0a27ef76ee91"
      },
      "execution_count": null,
      "outputs": [
        {
          "output_type": "stream",
          "name": "stdout",
          "text": [
            "Preparing to request: https://en.wikipedia.org/wiki/List_of_countries_and_dependencies_by_population\n",
            "Using default headers.\n",
            "Fetching robots.txt from: https://en.wikipedia.org/robots.txt\n",
            "robots.txt successfully read.\n",
            "robots.txt disallows access to https://en.wikipedia.org/wiki/List_of_countries_and_dependencies_by_population\n",
            "None\n",
            "Could not retrieve the page due to robots.txt restrictions.\n"
          ]
        }
      ]
    },
    {
      "cell_type": "markdown",
      "source": [
        "##Beautifulsoup basics\n",
        "\n",
        "This section of the tutorial from https://pythonprogramming.net/introduction-scraping-parsing-beautiful-soup-tutorial/"
      ],
      "metadata": {
        "id": "GaQNI6klvG5t"
      }
    },
    {
      "cell_type": "code",
      "source": [
        "# To begin, we need to import Beautiful Soup and urllib, and grab source code:\n",
        "source = urllib.request.urlopen('https://pythonprogramming.net/parsememcparseface/').read()\n",
        "url = 'https://pythonprogramming.net/parsememcparseface/'\n",
        "#use ethical_get\n",
        "response = ethical_get(url)\n",
        "source = response.content"
      ],
      "metadata": {
        "colab": {
          "base_uri": "https://localhost:8080/"
        },
        "id": "97GiqGiZvJXg",
        "outputId": "bb55137c-2754-4758-c96a-9070d50a2a0b"
      },
      "execution_count": null,
      "outputs": [
        {
          "output_type": "stream",
          "name": "stdout",
          "text": [
            "Preparing to request: https://pythonprogramming.net/parsememcparseface/\n",
            "Using default headers.\n",
            "Fetching robots.txt from: https://pythonprogramming.net/robots.txt\n",
            "robots.txt successfully read.\n",
            "robots.txt allows access to https://pythonprogramming.net/parsememcparseface/\n",
            "Waiting for 4.98 seconds before sending request...\n",
            "Sending HTTP GET request...\n",
            "Request successful! Status code: 200\n"
          ]
        }
      ]
    },
    {
      "cell_type": "code",
      "source": [
        "# Then, we create the \"soup.\" This is a beautiful soup object:\n",
        "soup = bs.BeautifulSoup(source,'lxml')\n",
        "# soup = soup.prettify() # Removed this line\n",
        "print(soup.prettify()) # Print the prettified version for display purposes"
      ],
      "metadata": {
        "colab": {
          "base_uri": "https://localhost:8080/"
        },
        "collapsed": true,
        "id": "1qZnY3nwvVkQ",
        "outputId": "5a4f35e5-aa2f-41fb-f7b8-2e34b2ad155d"
      },
      "execution_count": null,
      "outputs": [
        {
          "output_type": "stream",
          "name": "stdout",
          "text": [
            "<html>\n",
            " <head>\n",
            "  <!--\n",
            "\t\tpalette:\n",
            "\t\tdark blue: #003F72\n",
            "\t\tyellow: #FFD166\n",
            "\t\tsalmon: #EF476F\n",
            "\t\toffwhite: #e7d7d7\n",
            "\t\tLight Blue: #118AB2\n",
            "\t\tLight green: #7DDF64\n",
            "\t\t-->\n",
            "  <meta content=\"width=device-width, initial-scale=1.0\" name=\"viewport\"/>\n",
            "  <title>\n",
            "   Python Programming Tutorials\n",
            "  </title>\n",
            "  <meta content=\"Python Programming tutorials from beginner to advanced on a massive variety of topics. All video and text tutorials are free.\" name=\"description\"/>\n",
            "  <link href=\"/static/favicon.ico\" rel=\"shortcut icon\"/>\n",
            "  <link href=\"/static/css/materialize.min.css\" rel=\"stylesheet\"/>\n",
            "  <link href=\"https://fonts.googleapis.com/icon?family=Material+Icons\" rel=\"stylesheet\"/>\n",
            "  <meta content=\"3fLok05gk5gGtWd_VSXbSSSH27F2kr1QqcxYz9vYq2k\" name=\"google-site-verification\"/>\n",
            "  <link href=\"/static/css/bootstrap.css\" rel=\"stylesheet\" type=\"text/css\"/>\n",
            "  <!-- Compiled and minified CSS -->\n",
            "  <!-- Compiled and minified JavaScript -->\n",
            "  <script src=\"https://code.jquery.com/jquery-2.1.4.min.js\">\n",
            "  </script>\n",
            "  <script src=\"https://cdnjs.cloudflare.com/ajax/libs/materialize/0.97.3/js/materialize.min.js\">\n",
            "  </script>\n",
            "  <style>\n",
            "   @media (min-width:992px) {\n",
            "\t\t#aside {\n",
            "\t\t\twidth:250px;\n",
            "\t\t}\n",
            "\t\tpre { tab-size: 4;}\n",
            "\t\t.btn {background-color:#FFD166;\n",
            "\t\t\t  color:#000;\n",
            "\t\t      height:auto;\n",
            "\t\t\t  font-color:#000;\n",
            "\t\t\t  }\n",
            "\t\t.btn:hover {background-color:#FFD166;\n",
            "\t\t\t\t\t}\n",
            "  </style>\n",
            "  <!-- Google Tracking -->\n",
            "  <script>\n",
            "   (function(i,s,o,g,r,a,m){i['GoogleAnalyticsObject']=r;i[r]=i[r]||function(){\n",
            "\t\t\t  (i[r].q=i[r].q||[]).push(arguments)},i[r].l=1*new Date();a=s.createElement(o),\n",
            "\t\t\t  m=s.getElementsByTagName(o)[0];a.async=1;a.src=g;m.parentNode.insertBefore(a,m)\n",
            "\t\t\t  })(window,document,'script','//www.google-analytics.com/analytics.js','ga');\n",
            "              ga('config', 'UA-51891827-1', {'anonymize_ip': true});﻿\n",
            "\t\t\t  ga('create', 'UA-51891827-1', 'auto');\n",
            "\t\t\t  ga('send', 'pageview');\n",
            "  </script>\n",
            "  <script async=\"\" src=\"//pagead2.googlesyndication.com/pagead/js/adsbygoogle.js\">\n",
            "  </script>\n",
            "  <script>\n",
            "   (adsbygoogle = window.adsbygoogle || []).push({\n",
            "                              google_ad_client: \"ca-pub-1579050400541873\",\n",
            "                              enable_page_level_ads: true\n",
            "                         });\n",
            "  </script>\n",
            " </head>\n",
            " <body>\n",
            "  <div class=\"navbar-fixed\">\n",
            "   <nav style=\"background-color:#003F72\">\n",
            "    <div class=\"nav-wrapper container\">\n",
            "     <a class=\"brand-logo\" href=\"/\">\n",
            "      <img class=\"img-responsive\" src=\"/static/images/mainlogowhitethick.jpg\" style=\"width:50px; height;50px; margin-top:5px\"/>\n",
            "     </a>\n",
            "     <a class=\"button-collapse\" data-activates=\"navsidebar\" href=\"#\">\n",
            "      <i class=\"mdi-navigation-menu\">\n",
            "      </i>\n",
            "     </a>\n",
            "     <ul class=\"right hide-on-med-and-down\">\n",
            "      <li>\n",
            "       <i class=\"material-icons\">\n",
            "        search\n",
            "       </i>\n",
            "      </li>\n",
            "      <li>\n",
            "       <form action=\"/search/?l=hi\" id=\"searchform\" method=\"get\" style=\"height:50px; padding-top:10px\">\n",
            "        <input id=\"search\" name=\"q\" placeholder=\"search\" style=\"font-size:16px\" type=\"search\"/>\n",
            "       </form>\n",
            "      </li>\n",
            "      <li>\n",
            "       <a href=\"/\">\n",
            "        Home\n",
            "       </a>\n",
            "      </li>\n",
            "      <li>\n",
            "       <a class=\"tooltipped\" data-delay=\"50\" data-position=\"bottom\" data-tooltip=\"sudo apt-get upgrade\" href=\"/+=1/\">\n",
            "        +=1\n",
            "       </a>\n",
            "      </li>\n",
            "      <!--<li><a href=\"/store/python-hoodie/\">Store</a></li>-->\n",
            "      <li>\n",
            "       <a href=\"/support/\">\n",
            "        Support the Content\n",
            "       </a>\n",
            "      </li>\n",
            "      <li>\n",
            "       <a href=\"https://goo.gl/7zgAVQ\" target=\"blank\">\n",
            "        <!--<i class=\"material-icons\">question_answer</i>-->\n",
            "        Community\n",
            "       </a>\n",
            "      </li>\n",
            "      <li>\n",
            "       <a href=\"/login/\">\n",
            "        Log in\n",
            "       </a>\n",
            "      </li>\n",
            "      <li>\n",
            "       <a href=\"/register/\">\n",
            "        Sign up\n",
            "       </a>\n",
            "      </li>\n",
            "     </ul>\n",
            "     <ul class=\"side-nav\" id=\"navsidebar\">\n",
            "      <li>\n",
            "       <form action=\"/search/?l=hi\" id=\"searchform\" method=\"get\" style=\"height:50px; padding-top:10px\">\n",
            "        <input id=\"search\" name=\"q\" placeholder=\"search\" style=\"font-size:16px\" type=\"search\"/>\n",
            "       </form>\n",
            "      </li>\n",
            "      <li>\n",
            "       <a href=\"/\">\n",
            "        Home\n",
            "       </a>\n",
            "      </li>\n",
            "      <li>\n",
            "       <a class=\"tooltipped\" data-delay=\"50\" data-position=\"bottom\" data-tooltip=\"sudo apt-get upgrade\" href=\"/+=1/\">\n",
            "        +=1\n",
            "       </a>\n",
            "      </li>\n",
            "      <!--<li><a href=\"/store/python-hoodie/\">Store</a></li>-->\n",
            "      <li>\n",
            "       <a href=\"/support/\">\n",
            "        Support the Content\n",
            "       </a>\n",
            "      </li>\n",
            "      <li>\n",
            "       <a href=\"https://goo.gl/7zgAVQ\" target=\"blank\">\n",
            "        <!--<i class=\"material-icons\">question_answer</i>-->\n",
            "        Community\n",
            "       </a>\n",
            "      </li>\n",
            "      <li>\n",
            "       <a href=\"/login/\">\n",
            "        Log in\n",
            "       </a>\n",
            "      </li>\n",
            "      <li>\n",
            "       <a href=\"/register/\">\n",
            "        Sign up\n",
            "       </a>\n",
            "      </li>\n",
            "     </ul>\n",
            "    </div>\n",
            "   </nav>\n",
            "  </div>\n",
            "  <!-- main content -->\n",
            "  <div class=\"container\" style=\"max-width:1500px; min-height:100%\">\n",
            "   <!--Notification:-->\n",
            "   <!--<p style=\"font-size:80%\">TensorFlow.js Livestream:  <a href=\"https://www.youtube.com/watch?v=NjSlj95lliM\" target=\"blank\"><strong>Deep Learning in the browser</strong></a></p>-->\n",
            "   <!--End Notification:-->\n",
            "   <div class=\"body\">\n",
            "    <p class=\"introduction\">\n",
            "     Oh, hello! This is a\n",
            "     <span style=\"font-size:115%\">\n",
            "      wonderful\n",
            "     </span>\n",
            "     page meant to let you practice web scraping. This page was originally created to help people work with the\n",
            "     <a href=\"https://www.crummy.com/software/BeautifulSoup/bs4/doc/\" target=\"blank\">\n",
            "      <strong>\n",
            "       Beautiful Soup 4\n",
            "      </strong>\n",
            "     </a>\n",
            "     library.\n",
            "    </p>\n",
            "    <p>\n",
            "     The following table gives some general information for the following\n",
            "     <code>\n",
            "      programming languages\n",
            "     </code>\n",
            "     :\n",
            "    </p>\n",
            "    <ul>\n",
            "     <li>\n",
            "      Python\n",
            "     </li>\n",
            "     <li>\n",
            "      Pascal\n",
            "     </li>\n",
            "     <li>\n",
            "      Lisp\n",
            "     </li>\n",
            "     <li>\n",
            "      D#\n",
            "     </li>\n",
            "     <li>\n",
            "      Cobol\n",
            "     </li>\n",
            "     <li>\n",
            "      Fortran\n",
            "     </li>\n",
            "     <li>\n",
            "      Haskell\n",
            "     </li>\n",
            "    </ul>\n",
            "    <table style=\"width:100%\">\n",
            "     <tr>\n",
            "      <th>\n",
            "       Program Name\n",
            "      </th>\n",
            "      <th>\n",
            "       Internet Points\n",
            "      </th>\n",
            "      <th>\n",
            "       Kittens?\n",
            "      </th>\n",
            "     </tr>\n",
            "     <tr>\n",
            "      <td>\n",
            "       Python\n",
            "      </td>\n",
            "      <td>\n",
            "       932914021\n",
            "      </td>\n",
            "      <td>\n",
            "       Definitely\n",
            "      </td>\n",
            "     </tr>\n",
            "     <tr>\n",
            "      <td>\n",
            "       Pascal\n",
            "      </td>\n",
            "      <td>\n",
            "       532\n",
            "      </td>\n",
            "      <td>\n",
            "       Unlikely\n",
            "      </td>\n",
            "     </tr>\n",
            "     <tr>\n",
            "      <td>\n",
            "       Lisp\n",
            "      </td>\n",
            "      <td>\n",
            "       1522\n",
            "      </td>\n",
            "      <td>\n",
            "       Uncertain\n",
            "      </td>\n",
            "     </tr>\n",
            "     <tr>\n",
            "      <td>\n",
            "       D#\n",
            "      </td>\n",
            "      <td>\n",
            "       12\n",
            "      </td>\n",
            "      <td>\n",
            "       Possibly\n",
            "      </td>\n",
            "     </tr>\n",
            "     <tr>\n",
            "      <td>\n",
            "       Cobol\n",
            "      </td>\n",
            "      <td>\n",
            "       3\n",
            "      </td>\n",
            "      <td>\n",
            "       No.\n",
            "      </td>\n",
            "     </tr>\n",
            "     <tr>\n",
            "      <td>\n",
            "       Fortran\n",
            "      </td>\n",
            "      <td>\n",
            "       52124\n",
            "      </td>\n",
            "      <td>\n",
            "       Yes.\n",
            "      </td>\n",
            "     </tr>\n",
            "     <tr>\n",
            "      <td>\n",
            "       Haskell\n",
            "      </td>\n",
            "      <td>\n",
            "       24\n",
            "      </td>\n",
            "      <td>\n",
            "       lol.\n",
            "      </td>\n",
            "     </tr>\n",
            "    </table>\n",
            "    <p>\n",
            "     I think it's clear that, on a scale of 1-10, python is:\n",
            "    </p>\n",
            "    <div class=\"card hoverable\">\n",
            "     <div class=\"card-content\">\n",
            "      <div class=\"card-title\">\n",
            "      </div>\n",
            "      <img alt=\"omg batman\" class=\"responsive-img\" src=\"https://s-media-cache-ak0.pinimg.com/originals/e8/2a/ff/e82aff2876b080675449d0cef7685321.jpg\"/>\n",
            "     </div>\n",
            "    </div>\n",
            "    <p>\n",
            "     Javascript (dynamic data) test:\n",
            "    </p>\n",
            "    <p class=\"jstest\" id=\"yesnojs\">\n",
            "     y u bad tho?\n",
            "    </p>\n",
            "    <script>\n",
            "     document.getElementById('yesnojs').innerHTML = 'Look at you shinin!';\n",
            "    </script>\n",
            "    <br/>\n",
            "    <br/>\n",
            "    <pre>Beautiful is better than ugly.\n",
            "Explicit is better than implicit.\n",
            "Simple is better than complex.\n",
            "Complex is better than complicated.\n",
            "Flat is better than nested.\n",
            "Sparse is better than dense.\n",
            "Readability counts.\n",
            "Special cases aren't special enough to break the rules.\n",
            "Although practicality beats purity.\n",
            "Errors should never pass silently.\n",
            "Unless explicitly silenced.\n",
            "In the face of ambiguity, refuse the temptation to guess.\n",
            "There should be one-- and preferably only one --obvious way to do it.\n",
            "Although that way may not be obvious at first unless you're Dutch.\n",
            "Now is better than never.\n",
            "Although never is often better than *right* now.\n",
            "If the implementation is hard to explain, it's a bad idea.\n",
            "If the implementation is easy to explain, it may be a good idea.\n",
            "Namespaces are one honking great idea -- let's do more of those!</pre>\n",
            "    <p>\n",
            "     Whᶐt hαppéns now¿\n",
            "    </p>\n",
            "    <p>\n",
            "     <a href=\"/sitemap.xml\" target=\"blank\">\n",
            "      <strong>\n",
            "       sitemap\n",
            "      </strong>\n",
            "     </a>\n",
            "    </p>\n",
            "   </div>\n",
            "  </div>\n",
            " </body>\n",
            " <!--login modal-->\n",
            " <!--Register modal-->\n",
            " <script>\n",
            "  $(document).ready(function(){\n",
            "\t\t\t\t$(\".button-collapse\").sideNav();\n",
            "\t\t\t\t$('.modal-trigger').leanModal();\n",
            "\t\t\t\t$('.collapsible').collapsible({\n",
            "\t\t\t\t  accordion : false // A setting that changes the collapsible behavior to expandable instead of the default accordion style\n",
            "\t\t\t\t});\n",
            "\t\t\t\t$('#aside').pushpin({ top:110, bottom:500 });\n",
            "\t\t  });\n",
            " </script>\n",
            " <script>\n",
            "  $(document).ready(function(){\n",
            "\t\t\t$('.collapsible').collapsible({\n",
            "\t\t\t  accordion : false // A setting that changes the collapsible behavior to expandable instead of the default accordion style\n",
            "\t\t\t});\n",
            "\t\t\t$('select').material_select();\n",
            "\t\t  });\n",
            " </script>\n",
            " <script>\n",
            "  function goBack() {\n",
            "\t\t\twindow.history.back()\n",
            "\t\t}\n",
            " </script>\n",
            " <script src=\"/static/js/run_prettify.js\" type=\"text/javascript\">\n",
            " </script>\n",
            " <footer class=\"page-footer\">\n",
            "  <div class=\"container\">\n",
            "   <div class=\"row\">\n",
            "    <div class=\"col l6 s12\">\n",
            "     <h5 class=\"white-text\">\n",
            "      You've reached the end!\n",
            "     </h5>\n",
            "     <p class=\"grey-text text-lighten-4\">\n",
            "      Contact: Harrison@pythonprogramming.net.\n",
            "     </p>\n",
            "     <ul>\n",
            "      <li>\n",
            "       <a class=\"grey-text text-lighten-3\" href=\"/support-donate/\">\n",
            "        Support this Website!\n",
            "       </a>\n",
            "      </li>\n",
            "      <li>\n",
            "       <a class=\"grey-text text-lighten-3\" href=\"/consulting/\">\n",
            "        Consulting and Contracting\n",
            "       </a>\n",
            "      </li>\n",
            "      <li>\n",
            "       <a class=\"grey-text text-lighten-3\" href=\"https://www.facebook.com/pythonprogramming.net/\">\n",
            "        Facebook\n",
            "       </a>\n",
            "      </li>\n",
            "      <li>\n",
            "       <a class=\"grey-text text-lighten-3\" href=\"https://twitter.com/sentdex\">\n",
            "        Twitter\n",
            "       </a>\n",
            "      </li>\n",
            "      <li>\n",
            "       <a class=\"grey-text text-lighten-3\" href=\"https://instagram.com/sentdex\">\n",
            "        Instagram\n",
            "       </a>\n",
            "      </li>\n",
            "     </ul>\n",
            "    </div>\n",
            "    <div class=\"col l4 offset-l2 s12\">\n",
            "     <h6 class=\"white-text\">\n",
            "      Legal stuff:\n",
            "     </h6>\n",
            "     <ul>\n",
            "      <li>\n",
            "       <a class=\"grey-text text-lighten-3\" href=\"/about/tos/\">\n",
            "        Terms and Conditions\n",
            "       </a>\n",
            "      </li>\n",
            "      <li>\n",
            "       <a class=\"grey-text text-lighten-3\" href=\"/about/privacy-policy/\">\n",
            "        Privacy Policy\n",
            "       </a>\n",
            "      </li>\n",
            "     </ul>\n",
            "    </div>\n",
            "   </div>\n",
            "  </div>\n",
            "  <a href=\"https://xkcd.com/353/\" target=\"blank\">\n",
            "   <p class=\"grey-text right\" style=\"padding-right:10px\">\n",
            "    Programming is a superpower.\n",
            "   </p>\n",
            "  </a>\n",
            "  <div class=\"footer-copyright\">\n",
            "   <div class=\"container\">\n",
            "    © OVER 9000! PythonProgramming.net\n",
            "   </div>\n",
            "  </div>\n",
            " </footer>\n",
            "</html>\n",
            "\n"
          ]
        }
      ]
    },
    {
      "cell_type": "code",
      "source": [
        "# Finding paragraph tags <p> is a fairly common task.\n",
        "# In the case above, we're just finding the first one. What if we wanted to find them all?\n",
        "\n",
        "print(soup.find_all('p'))\n"
      ],
      "metadata": {
        "id": "QFAvorVvvojD",
        "colab": {
          "base_uri": "https://localhost:8080/"
        },
        "outputId": "2f5ee9ef-f947-40a7-c700-58e107702140"
      },
      "execution_count": null,
      "outputs": [
        {
          "output_type": "stream",
          "name": "stdout",
          "text": [
            "[<p class=\"introduction\">Oh, hello! This is a <span style=\"font-size:115%\">wonderful</span> page meant to let you practice web scraping. This page was originally created to help people work with the <a href=\"https://www.crummy.com/software/BeautifulSoup/bs4/doc/\" target=\"blank\"><strong>Beautiful Soup 4</strong></a> library.</p>, <p>The following table gives some general information for the following <code>programming languages</code>:</p>, <p>I think it's clear that, on a scale of 1-10, python is:</p>, <p>Javascript (dynamic data) test:</p>, <p class=\"jstest\" id=\"yesnojs\">y u bad tho?</p>, <p>Whᶐt hαppéns now¿</p>, <p><a href=\"/sitemap.xml\" target=\"blank\"><strong>sitemap</strong></a></p>, <p class=\"grey-text text-lighten-4\">Contact: Harrison@pythonprogramming.net.</p>, <p class=\"grey-text right\" style=\"padding-right:10px\">Programming is a superpower.</p>]\n"
          ]
        }
      ]
    },
    {
      "cell_type": "code",
      "source": [
        "# Another common task is to grab links. For example:\n",
        "\n",
        "for url in soup.find_all('a'):\n",
        "    print(url.get('href'))\n",
        "\n",
        "# In this case, if we just grabbed the .text from the tag, you'd get the anchor text,\n",
        "# but we actually want the link itself. That's why we're using .get('href') to get the true URL.\n"
      ],
      "metadata": {
        "id": "dHAZ_bIiv8Fx",
        "colab": {
          "base_uri": "https://localhost:8080/"
        },
        "outputId": "bc5f3b48-83dc-49d2-eae7-4cce75767ef0"
      },
      "execution_count": null,
      "outputs": [
        {
          "output_type": "stream",
          "name": "stdout",
          "text": [
            "/\n",
            "#\n",
            "/\n",
            "/+=1/\n",
            "/support/\n",
            "https://goo.gl/7zgAVQ\n",
            "/login/\n",
            "/register/\n",
            "/\n",
            "/+=1/\n",
            "/support/\n",
            "https://goo.gl/7zgAVQ\n",
            "/login/\n",
            "/register/\n",
            "https://www.crummy.com/software/BeautifulSoup/bs4/doc/\n",
            "/sitemap.xml\n",
            "/support-donate/\n",
            "/consulting/\n",
            "https://www.facebook.com/pythonprogramming.net/\n",
            "https://twitter.com/sentdex\n",
            "https://instagram.com/sentdex\n",
            "/about/tos/\n",
            "/about/privacy-policy/\n",
            "https://xkcd.com/353/\n"
          ]
        }
      ]
    },
    {
      "cell_type": "code",
      "source": [
        "# Finally, you may just want to grab text. You can use .get_text() on a Beautiful Soup object,\n",
        "# including the full soup:\n",
        "\n",
        "print(soup.get_text())\n"
      ],
      "metadata": {
        "id": "b3OtXPTMwBhC",
        "colab": {
          "base_uri": "https://localhost:8080/"
        },
        "outputId": "3a71357a-78fd-4df6-e62d-56ecd2ba306f"
      },
      "execution_count": null,
      "outputs": [
        {
          "output_type": "stream",
          "name": "stdout",
          "text": [
            "\n",
            "\n",
            "\n",
            "\n",
            "Python Programming Tutorials\n",
            "\n",
            "\n",
            "\n",
            "\n",
            "\n",
            "\n",
            "\n",
            "\n",
            "\n",
            "\n",
            "\n",
            "\n",
            "\n",
            "\n",
            "\n",
            "\n",
            "\n",
            "\n",
            "\n",
            "\n",
            "\n",
            "\n",
            "\n",
            "search\n",
            "\n",
            "\n",
            "\n",
            "\n",
            "\n",
            "Home\n",
            "+=1\n",
            "\n",
            "Support the Content\n",
            "Community\n",
            "Log in\n",
            "Sign up\n",
            "\n",
            "\n",
            "\n",
            "\n",
            "\n",
            "\n",
            "\n",
            "Home\n",
            "+=1\n",
            "\n",
            "Support the Content\n",
            "Community\n",
            "Log in\n",
            "Sign up\n",
            "\n",
            "\n",
            "\n",
            "\n",
            "\n",
            "\n",
            "\n",
            "\n",
            "\n",
            "\n",
            "Oh, hello! This is a wonderful page meant to let you practice web scraping. This page was originally created to help people work with the Beautiful Soup 4 library.\n",
            "The following table gives some general information for the following programming languages:\n",
            "\n",
            "Python\n",
            "Pascal\n",
            "Lisp\n",
            "D#\n",
            "Cobol\n",
            "Fortran\n",
            "Haskell\n",
            "\n",
            "\n",
            "\n",
            "Program Name\n",
            "Internet Points\n",
            "Kittens?\n",
            "\n",
            "\n",
            "Python\n",
            "932914021\n",
            "Definitely\n",
            "\n",
            "\n",
            "Pascal\n",
            "532\n",
            "Unlikely\n",
            "\n",
            "\n",
            "Lisp\n",
            "1522\n",
            "Uncertain\n",
            "\n",
            "\n",
            "D#\n",
            "12\n",
            "Possibly\n",
            "\n",
            "\n",
            "Cobol\n",
            "3\n",
            "No.\n",
            "\n",
            "\n",
            "Fortran\n",
            "52124\n",
            "Yes.\n",
            "\n",
            "\n",
            "Haskell\n",
            "24\n",
            "lol.\n",
            "\n",
            "\n",
            "I think it's clear that, on a scale of 1-10, python is:\n",
            "\n",
            "\n",
            "\n",
            "\n",
            "\n",
            "\n",
            "Javascript (dynamic data) test:\n",
            "y u bad tho?\n",
            "\n",
            "\n",
            "Beautiful is better than ugly.\n",
            "Explicit is better than implicit.\n",
            "Simple is better than complex.\n",
            "Complex is better than complicated.\n",
            "Flat is better than nested.\n",
            "Sparse is better than dense.\n",
            "Readability counts.\n",
            "Special cases aren't special enough to break the rules.\n",
            "Although practicality beats purity.\n",
            "Errors should never pass silently.\n",
            "Unless explicitly silenced.\n",
            "In the face of ambiguity, refuse the temptation to guess.\n",
            "There should be one-- and preferably only one --obvious way to do it.\n",
            "Although that way may not be obvious at first unless you're Dutch.\n",
            "Now is better than never.\n",
            "Although never is often better than *right* now.\n",
            "If the implementation is hard to explain, it's a bad idea.\n",
            "If the implementation is easy to explain, it may be a good idea.\n",
            "Namespaces are one honking great idea -- let's do more of those!\n",
            "Whᶐt hαppéns now¿\n",
            "sitemap\n",
            "\n",
            "\n",
            "\n",
            "\n",
            "\n",
            "\n",
            "\n",
            "\n",
            "\n",
            "\n",
            "\n",
            "You've reached the end!\n",
            "Contact: Harrison@pythonprogramming.net.\n",
            "\n",
            "Support this Website!\n",
            "Consulting and Contracting\n",
            "Facebook\n",
            "Twitter\n",
            "Instagram\n",
            "\n",
            "\n",
            "\n",
            "Legal stuff:\n",
            "\n",
            "Terms and Conditions\n",
            "Privacy Policy\n",
            "\n",
            "\n",
            "\n",
            "\n",
            "Programming is a superpower.\n",
            "\n",
            "\n",
            "            © OVER 9000! PythonProgramming.net\n",
            "\n",
            "            \n",
            "\n",
            "\n",
            "\n",
            "\n"
          ]
        }
      ]
    },
    {
      "cell_type": "markdown",
      "source": [
        "##Scraping with BeautifulSoup"
      ],
      "metadata": {
        "id": "g5jmsge7dBXE"
      }
    },
    {
      "cell_type": "markdown",
      "source": [
        "Scraping HTML from a simple webpage"
      ],
      "metadata": {
        "id": "skCjcxeXo0H2"
      }
    },
    {
      "cell_type": "code",
      "source": [
        "#scrape html from https://en.wikipedia.org/wiki/The_X-Files\n",
        "url = 'https://en.wikipedia.org/wiki/The_X-Files'\n",
        "response = ethical_get(url)\n",
        "if response: # Check if response is not None\n",
        "    soup = BeautifulSoup(response.text, 'html.parser')\n",
        "    html = soup.prettify()\n",
        "    #print text\n",
        "    print(html)\n",
        "else:\n",
        "    print(\"Could not retrieve the page due to robots.txt restrictions.\")"
      ],
      "metadata": {
        "id": "tci6ULOgB695",
        "colab": {
          "base_uri": "https://localhost:8080/"
        },
        "outputId": "15f5d025-de89-4576-d8ee-5116be8d8b41"
      },
      "execution_count": null,
      "outputs": [
        {
          "output_type": "stream",
          "name": "stdout",
          "text": [
            "Preparing to request: https://en.wikipedia.org/wiki/The_X-Files\n",
            "Using default headers.\n",
            "Fetching robots.txt from: https://en.wikipedia.org/robots.txt\n",
            "robots.txt successfully read.\n",
            "robots.txt disallows access to https://en.wikipedia.org/wiki/The_X-Files\n",
            "Could not retrieve the page due to robots.txt restrictions.\n"
          ]
        }
      ]
    },
    {
      "cell_type": "markdown",
      "source": [
        "Scraping Text from a simple Webpage\n"
      ],
      "metadata": {
        "id": "1dzaoD6wgVPX"
      }
    },
    {
      "cell_type": "code",
      "source": [
        "#scrape text and use ethical_get\n",
        "url = 'https://web.archive.org/web/20150212095858/http://en.wikipedia.org/wiki/The_X-Files'\n",
        "response = ethical_get(url)\n",
        "if response: # Check if response is not None\n",
        "    soup = BeautifulSoup(response.content, 'html.parser')\n",
        "    text = soup.get_text()\n",
        "    #print\n",
        "    print(text)\n",
        "else:\n",
        "    print(\"Could not retrieve the page.\")"
      ],
      "metadata": {
        "id": "8wYeZTr7ebGL",
        "colab": {
          "base_uri": "https://localhost:8080/"
        },
        "outputId": "6678901b-f46e-4913-fd74-c30776f242b6"
      },
      "execution_count": null,
      "outputs": [
        {
          "output_type": "stream",
          "name": "stdout",
          "text": [
            "Preparing to request: https://web.archive.org/web/20150212095858/http://en.wikipedia.org/wiki/The_X-Files\n",
            "Using default headers.\n",
            "Fetching robots.txt from: https://web.archive.org/robots.txt\n",
            "robots.txt successfully read.\n",
            "robots.txt allows access to https://web.archive.org/web/20150212095858/http://en.wikipedia.org/wiki/The_X-Files\n",
            "Waiting for 3.71 seconds before sending request...\n",
            "Sending HTTP GET request...\n",
            "Request failed with status code: 429\n",
            "Could not retrieve the page.\n"
          ]
        }
      ]
    },
    {
      "cell_type": "markdown",
      "source": [
        "Find Elements by ID"
      ],
      "metadata": {
        "id": "llms_fhusznM"
      }
    },
    {
      "cell_type": "code",
      "source": [
        "# Find Elements by HTML Class Name - find all\n",
        "url = 'https://web.archive.org/web/20150212095858/http://en.wikipedia.org/wiki/The_X-Files'\n",
        "response = ethical_get(url)\n",
        "if response: # Check if response is not None\n",
        "    soup = BeautifulSoup(response.content, 'html.parser')\n",
        "    #find all section headers\n",
        "    section_headers = soup.find_all('span', class_='mw-headline')\n",
        "    #print\n",
        "    for header in section_headers:\n",
        "        print(header.text)\n",
        "else:\n",
        "    print(\"Could not retrieve the page.\")"
      ],
      "metadata": {
        "id": "TeYEbqNIs0Hw",
        "colab": {
          "base_uri": "https://localhost:8080/"
        },
        "outputId": "d2b2a371-6bf8-474b-a6d2-ec1289c9c82b"
      },
      "execution_count": null,
      "outputs": [
        {
          "output_type": "stream",
          "name": "stdout",
          "text": [
            "Preparing to request: https://web.archive.org/web/20150212095858/http://en.wikipedia.org/wiki/The_X-Files\n",
            "Using default headers.\n",
            "Fetching robots.txt from: https://web.archive.org/robots.txt\n",
            "robots.txt successfully read.\n",
            "robots.txt allows access to https://web.archive.org/web/20150212095858/http://en.wikipedia.org/wiki/The_X-Files\n",
            "Waiting for 4.13 seconds before sending request...\n",
            "Sending HTTP GET request...\n",
            "Request failed with status code: 429\n",
            "Could not retrieve the page.\n"
          ]
        }
      ]
    },
    {
      "cell_type": "markdown",
      "source": [
        "Find all links"
      ],
      "metadata": {
        "id": "KNksTjlVuTer"
      }
    },
    {
      "cell_type": "code",
      "source": [
        "#find all links in the website\n",
        "url = 'https://web.archive.org/web/20150212095858/http://en.wikipedia.org/wiki/The_X-Files'\n",
        "response = ethical_get(url)\n",
        "if response: # Check if response is not None\n",
        "    soup = BeautifulSoup(response.content, 'html.parser')\n",
        "    links = soup.find_all('a')\n",
        "    #print\n",
        "    for link in links:\n",
        "        print(link.get('href'))\n",
        "else:\n",
        "    print(\"Could not retrieve the page.\")"
      ],
      "metadata": {
        "id": "XA-sYFLjuVO4",
        "colab": {
          "base_uri": "https://localhost:8080/"
        },
        "outputId": "57427e98-a8e2-4f8a-e05a-dd8884b5b855"
      },
      "execution_count": null,
      "outputs": [
        {
          "output_type": "stream",
          "name": "stdout",
          "text": [
            "Preparing to request: https://web.archive.org/web/20150212095858/http://en.wikipedia.org/wiki/The_X-Files\n",
            "Using default headers.\n",
            "Fetching robots.txt from: https://web.archive.org/robots.txt\n",
            "robots.txt successfully read.\n",
            "robots.txt allows access to https://web.archive.org/web/20150212095858/http://en.wikipedia.org/wiki/The_X-Files\n",
            "Waiting for 4.25 seconds before sending request...\n",
            "Sending HTTP GET request...\n",
            "Request failed with status code: 429\n",
            "Could not retrieve the page.\n"
          ]
        }
      ]
    },
    {
      "cell_type": "markdown",
      "source": [
        "Handling pagination"
      ],
      "metadata": {
        "id": "pwOwffDbxr2U"
      }
    },
    {
      "cell_type": "code",
      "source": [
        "#check ethical_get(url)\n",
        "url = 'https://news.ycombinator.com/news'\n",
        "response = ethical_get(url)"
      ],
      "metadata": {
        "id": "lhYW8Asdx2UI",
        "colab": {
          "base_uri": "https://localhost:8080/"
        },
        "outputId": "c0ba1b12-972d-4a11-9410-f652efe15e9e"
      },
      "execution_count": null,
      "outputs": [
        {
          "output_type": "stream",
          "name": "stdout",
          "text": [
            "Preparing to request: https://news.ycombinator.com/news\n",
            "Using default headers.\n",
            "Fetching robots.txt from: https://news.ycombinator.com/robots.txt\n",
            "robots.txt successfully read.\n",
            "robots.txt allows access to https://news.ycombinator.com/news\n",
            "Waiting for 3.84 seconds before sending request...\n",
            "Sending HTTP GET request...\n",
            "Request successful! Status code: 200\n"
          ]
        }
      ]
    },
    {
      "cell_type": "code",
      "source": [
        "def scrape_hacker_news(num_pages=3):\n",
        "\n",
        "    # Store all our results\n",
        "    all_posts = []\n",
        "\n",
        "    # Start URL\n",
        "    url = 'https://news.ycombinator.com/news'\n",
        "\n",
        "    for page in range(num_pages):\n",
        "        # Print progress\n",
        "        print(f\"Scraping page {page+1} of {num_pages}...\")\n",
        "\n",
        "        # Get the page\n",
        "        response = requests.get(url)\n",
        "        soup = BeautifulSoup(response.text, 'html.parser')\n",
        "\n",
        "        # Extract post titles and links\n",
        "        posts = soup.select('tr.athing')\n",
        "\n",
        "        for post in posts:\n",
        "            # Get the ranking\n",
        "            rank = post.select_one('.rank').text.replace('.', '')\n",
        "\n",
        "            # Get the title and link\n",
        "            title_cell = post.select_one('td.title > span.titleline')\n",
        "            title = title_cell.a.text\n",
        "            link = title_cell.a['href']\n",
        "\n",
        "            # Store the data\n",
        "            all_posts.append({\n",
        "                'rank': rank,\n",
        "                'title': title,\n",
        "                'link': link\n",
        "            })\n",
        "\n",
        "        # Find the \"More\" link for next page\n",
        "        more_link = soup.select_one('a.morelink')\n",
        "        if more_link:\n",
        "            # Get the relative URL and make it absolute\n",
        "            url = f\"https://news.ycombinator.com/{more_link['href']}\"\n",
        "        else:\n",
        "            # No more pages\n",
        "            print(\"No more pages to scrape.\")\n",
        "            break\n",
        "\n",
        "        # Be respectful - pause between requests\n",
        "        time.sleep(2)\n",
        "\n",
        "    # Convert to DataFrame\n",
        "    return pd.DataFrame(all_posts)\n",
        "\n",
        "# Run the scraper\n",
        "hacker_news_df = scrape_hacker_news(3)\n",
        "print(f\"Total posts collected: {len(hacker_news_df)}\")\n",
        "hacker_news_df.head()"
      ],
      "metadata": {
        "id": "0W5k2_h-xtL_",
        "colab": {
          "base_uri": "https://localhost:8080/",
          "height": 278
        },
        "outputId": "ca0885db-2e95-49d5-e982-8f3e18103f2e"
      },
      "execution_count": null,
      "outputs": [
        {
          "output_type": "stream",
          "name": "stdout",
          "text": [
            "Scraping page 1 of 3...\n",
            "Scraping page 2 of 3...\n",
            "Scraping page 3 of 3...\n",
            "Total posts collected: 90\n"
          ]
        },
        {
          "output_type": "execute_result",
          "data": {
            "text/plain": [
              "  rank                                              title  \\\n",
              "0    1  Almost anything you give sustained attention t...   \n",
              "1    2           Le Chat. Custom MCP Connectors. Memories   \n",
              "2    3                         30 minutes with a stranger   \n",
              "3    4             How to build vector tiles from scratch   \n",
              "4    5  Inverting the Xorshift128 random number generator   \n",
              "\n",
              "                                                link  \n",
              "0         https://www.henrikkarlsson.xyz/p/attention  \n",
              "1  https://mistral.ai/news/le-chat-mcp-connectors...  \n",
              "2       https://pudding.cool/2025/06/hello-stranger/  \n",
              "3        https://www.debuisne.com/writing/geo-tiles/  \n",
              "4  https://littlemaninmyhead.wordpress.com/2025/0...  "
            ],
            "text/html": [
              "\n",
              "  <div id=\"df-ead3c5fe-1410-4650-9a85-a652a07e2c81\" class=\"colab-df-container\">\n",
              "    <div>\n",
              "<style scoped>\n",
              "    .dataframe tbody tr th:only-of-type {\n",
              "        vertical-align: middle;\n",
              "    }\n",
              "\n",
              "    .dataframe tbody tr th {\n",
              "        vertical-align: top;\n",
              "    }\n",
              "\n",
              "    .dataframe thead th {\n",
              "        text-align: right;\n",
              "    }\n",
              "</style>\n",
              "<table border=\"1\" class=\"dataframe\">\n",
              "  <thead>\n",
              "    <tr style=\"text-align: right;\">\n",
              "      <th></th>\n",
              "      <th>rank</th>\n",
              "      <th>title</th>\n",
              "      <th>link</th>\n",
              "    </tr>\n",
              "  </thead>\n",
              "  <tbody>\n",
              "    <tr>\n",
              "      <th>0</th>\n",
              "      <td>1</td>\n",
              "      <td>Almost anything you give sustained attention t...</td>\n",
              "      <td>https://www.henrikkarlsson.xyz/p/attention</td>\n",
              "    </tr>\n",
              "    <tr>\n",
              "      <th>1</th>\n",
              "      <td>2</td>\n",
              "      <td>Le Chat. Custom MCP Connectors. Memories</td>\n",
              "      <td>https://mistral.ai/news/le-chat-mcp-connectors...</td>\n",
              "    </tr>\n",
              "    <tr>\n",
              "      <th>2</th>\n",
              "      <td>3</td>\n",
              "      <td>30 minutes with a stranger</td>\n",
              "      <td>https://pudding.cool/2025/06/hello-stranger/</td>\n",
              "    </tr>\n",
              "    <tr>\n",
              "      <th>3</th>\n",
              "      <td>4</td>\n",
              "      <td>How to build vector tiles from scratch</td>\n",
              "      <td>https://www.debuisne.com/writing/geo-tiles/</td>\n",
              "    </tr>\n",
              "    <tr>\n",
              "      <th>4</th>\n",
              "      <td>5</td>\n",
              "      <td>Inverting the Xorshift128 random number generator</td>\n",
              "      <td>https://littlemaninmyhead.wordpress.com/2025/0...</td>\n",
              "    </tr>\n",
              "  </tbody>\n",
              "</table>\n",
              "</div>\n",
              "    <div class=\"colab-df-buttons\">\n",
              "\n",
              "  <div class=\"colab-df-container\">\n",
              "    <button class=\"colab-df-convert\" onclick=\"convertToInteractive('df-ead3c5fe-1410-4650-9a85-a652a07e2c81')\"\n",
              "            title=\"Convert this dataframe to an interactive table.\"\n",
              "            style=\"display:none;\">\n",
              "\n",
              "  <svg xmlns=\"http://www.w3.org/2000/svg\" height=\"24px\" viewBox=\"0 -960 960 960\">\n",
              "    <path d=\"M120-120v-720h720v720H120Zm60-500h600v-160H180v160Zm220 220h160v-160H400v160Zm0 220h160v-160H400v160ZM180-400h160v-160H180v160Zm440 0h160v-160H620v160ZM180-180h160v-160H180v160Zm440 0h160v-160H620v160Z\"/>\n",
              "  </svg>\n",
              "    </button>\n",
              "\n",
              "  <style>\n",
              "    .colab-df-container {\n",
              "      display:flex;\n",
              "      gap: 12px;\n",
              "    }\n",
              "\n",
              "    .colab-df-convert {\n",
              "      background-color: #E8F0FE;\n",
              "      border: none;\n",
              "      border-radius: 50%;\n",
              "      cursor: pointer;\n",
              "      display: none;\n",
              "      fill: #1967D2;\n",
              "      height: 32px;\n",
              "      padding: 0 0 0 0;\n",
              "      width: 32px;\n",
              "    }\n",
              "\n",
              "    .colab-df-convert:hover {\n",
              "      background-color: #E2EBFA;\n",
              "      box-shadow: 0px 1px 2px rgba(60, 64, 67, 0.3), 0px 1px 3px 1px rgba(60, 64, 67, 0.15);\n",
              "      fill: #174EA6;\n",
              "    }\n",
              "\n",
              "    .colab-df-buttons div {\n",
              "      margin-bottom: 4px;\n",
              "    }\n",
              "\n",
              "    [theme=dark] .colab-df-convert {\n",
              "      background-color: #3B4455;\n",
              "      fill: #D2E3FC;\n",
              "    }\n",
              "\n",
              "    [theme=dark] .colab-df-convert:hover {\n",
              "      background-color: #434B5C;\n",
              "      box-shadow: 0px 1px 3px 1px rgba(0, 0, 0, 0.15);\n",
              "      filter: drop-shadow(0px 1px 2px rgba(0, 0, 0, 0.3));\n",
              "      fill: #FFFFFF;\n",
              "    }\n",
              "  </style>\n",
              "\n",
              "    <script>\n",
              "      const buttonEl =\n",
              "        document.querySelector('#df-ead3c5fe-1410-4650-9a85-a652a07e2c81 button.colab-df-convert');\n",
              "      buttonEl.style.display =\n",
              "        google.colab.kernel.accessAllowed ? 'block' : 'none';\n",
              "\n",
              "      async function convertToInteractive(key) {\n",
              "        const element = document.querySelector('#df-ead3c5fe-1410-4650-9a85-a652a07e2c81');\n",
              "        const dataTable =\n",
              "          await google.colab.kernel.invokeFunction('convertToInteractive',\n",
              "                                                    [key], {});\n",
              "        if (!dataTable) return;\n",
              "\n",
              "        const docLinkHtml = 'Like what you see? Visit the ' +\n",
              "          '<a target=\"_blank\" href=https://colab.research.google.com/notebooks/data_table.ipynb>data table notebook</a>'\n",
              "          + ' to learn more about interactive tables.';\n",
              "        element.innerHTML = '';\n",
              "        dataTable['output_type'] = 'display_data';\n",
              "        await google.colab.output.renderOutput(dataTable, element);\n",
              "        const docLink = document.createElement('div');\n",
              "        docLink.innerHTML = docLinkHtml;\n",
              "        element.appendChild(docLink);\n",
              "      }\n",
              "    </script>\n",
              "  </div>\n",
              "\n",
              "\n",
              "    <div id=\"df-d4a8d22d-ef52-4b1e-96ac-199621d3fe4c\">\n",
              "      <button class=\"colab-df-quickchart\" onclick=\"quickchart('df-d4a8d22d-ef52-4b1e-96ac-199621d3fe4c')\"\n",
              "                title=\"Suggest charts\"\n",
              "                style=\"display:none;\">\n",
              "\n",
              "<svg xmlns=\"http://www.w3.org/2000/svg\" height=\"24px\"viewBox=\"0 0 24 24\"\n",
              "     width=\"24px\">\n",
              "    <g>\n",
              "        <path d=\"M19 3H5c-1.1 0-2 .9-2 2v14c0 1.1.9 2 2 2h14c1.1 0 2-.9 2-2V5c0-1.1-.9-2-2-2zM9 17H7v-7h2v7zm4 0h-2V7h2v10zm4 0h-2v-4h2v4z\"/>\n",
              "    </g>\n",
              "</svg>\n",
              "      </button>\n",
              "\n",
              "<style>\n",
              "  .colab-df-quickchart {\n",
              "      --bg-color: #E8F0FE;\n",
              "      --fill-color: #1967D2;\n",
              "      --hover-bg-color: #E2EBFA;\n",
              "      --hover-fill-color: #174EA6;\n",
              "      --disabled-fill-color: #AAA;\n",
              "      --disabled-bg-color: #DDD;\n",
              "  }\n",
              "\n",
              "  [theme=dark] .colab-df-quickchart {\n",
              "      --bg-color: #3B4455;\n",
              "      --fill-color: #D2E3FC;\n",
              "      --hover-bg-color: #434B5C;\n",
              "      --hover-fill-color: #FFFFFF;\n",
              "      --disabled-bg-color: #3B4455;\n",
              "      --disabled-fill-color: #666;\n",
              "  }\n",
              "\n",
              "  .colab-df-quickchart {\n",
              "    background-color: var(--bg-color);\n",
              "    border: none;\n",
              "    border-radius: 50%;\n",
              "    cursor: pointer;\n",
              "    display: none;\n",
              "    fill: var(--fill-color);\n",
              "    height: 32px;\n",
              "    padding: 0;\n",
              "    width: 32px;\n",
              "  }\n",
              "\n",
              "  .colab-df-quickchart:hover {\n",
              "    background-color: var(--hover-bg-color);\n",
              "    box-shadow: 0 1px 2px rgba(60, 64, 67, 0.3), 0 1px 3px 1px rgba(60, 64, 67, 0.15);\n",
              "    fill: var(--button-hover-fill-color);\n",
              "  }\n",
              "\n",
              "  .colab-df-quickchart-complete:disabled,\n",
              "  .colab-df-quickchart-complete:disabled:hover {\n",
              "    background-color: var(--disabled-bg-color);\n",
              "    fill: var(--disabled-fill-color);\n",
              "    box-shadow: none;\n",
              "  }\n",
              "\n",
              "  .colab-df-spinner {\n",
              "    border: 2px solid var(--fill-color);\n",
              "    border-color: transparent;\n",
              "    border-bottom-color: var(--fill-color);\n",
              "    animation:\n",
              "      spin 1s steps(1) infinite;\n",
              "  }\n",
              "\n",
              "  @keyframes spin {\n",
              "    0% {\n",
              "      border-color: transparent;\n",
              "      border-bottom-color: var(--fill-color);\n",
              "      border-left-color: var(--fill-color);\n",
              "    }\n",
              "    20% {\n",
              "      border-color: transparent;\n",
              "      border-left-color: var(--fill-color);\n",
              "      border-top-color: var(--fill-color);\n",
              "    }\n",
              "    30% {\n",
              "      border-color: transparent;\n",
              "      border-left-color: var(--fill-color);\n",
              "      border-top-color: var(--fill-color);\n",
              "      border-right-color: var(--fill-color);\n",
              "    }\n",
              "    40% {\n",
              "      border-color: transparent;\n",
              "      border-right-color: var(--fill-color);\n",
              "      border-top-color: var(--fill-color);\n",
              "    }\n",
              "    60% {\n",
              "      border-color: transparent;\n",
              "      border-right-color: var(--fill-color);\n",
              "    }\n",
              "    80% {\n",
              "      border-color: transparent;\n",
              "      border-right-color: var(--fill-color);\n",
              "      border-bottom-color: var(--fill-color);\n",
              "    }\n",
              "    90% {\n",
              "      border-color: transparent;\n",
              "      border-bottom-color: var(--fill-color);\n",
              "    }\n",
              "  }\n",
              "</style>\n",
              "\n",
              "      <script>\n",
              "        async function quickchart(key) {\n",
              "          const quickchartButtonEl =\n",
              "            document.querySelector('#' + key + ' button');\n",
              "          quickchartButtonEl.disabled = true;  // To prevent multiple clicks.\n",
              "          quickchartButtonEl.classList.add('colab-df-spinner');\n",
              "          try {\n",
              "            const charts = await google.colab.kernel.invokeFunction(\n",
              "                'suggestCharts', [key], {});\n",
              "          } catch (error) {\n",
              "            console.error('Error during call to suggestCharts:', error);\n",
              "          }\n",
              "          quickchartButtonEl.classList.remove('colab-df-spinner');\n",
              "          quickchartButtonEl.classList.add('colab-df-quickchart-complete');\n",
              "        }\n",
              "        (() => {\n",
              "          let quickchartButtonEl =\n",
              "            document.querySelector('#df-d4a8d22d-ef52-4b1e-96ac-199621d3fe4c button');\n",
              "          quickchartButtonEl.style.display =\n",
              "            google.colab.kernel.accessAllowed ? 'block' : 'none';\n",
              "        })();\n",
              "      </script>\n",
              "    </div>\n",
              "\n",
              "    </div>\n",
              "  </div>\n"
            ],
            "application/vnd.google.colaboratory.intrinsic+json": {
              "type": "dataframe",
              "variable_name": "hacker_news_df",
              "summary": "{\n  \"name\": \"hacker_news_df\",\n  \"rows\": 90,\n  \"fields\": [\n    {\n      \"column\": \"rank\",\n      \"properties\": {\n        \"dtype\": \"string\",\n        \"num_unique_values\": 90,\n        \"samples\": [\n          \"41\",\n          \"23\",\n          \"56\"\n        ],\n        \"semantic_type\": \"\",\n        \"description\": \"\"\n      }\n    },\n    {\n      \"column\": \"title\",\n      \"properties\": {\n        \"dtype\": \"string\",\n        \"num_unique_values\": 90,\n        \"samples\": [\n          \"Building the most accurate DIY CNC lathe in the world [video]\",\n          \"Hledger 1.50\",\n          \"Tufte CSS\"\n        ],\n        \"semantic_type\": \"\",\n        \"description\": \"\"\n      }\n    },\n    {\n      \"column\": \"link\",\n      \"properties\": {\n        \"dtype\": \"string\",\n        \"num_unique_values\": 90,\n        \"samples\": [\n          \"https://www.youtube.com/watch?v=vEr2CJruwEM\",\n          \"https://github.com/simonmichael/hledger/releases/tag/1.50\",\n          \"https://edwardtufte.github.io/tufte-css/\"\n        ],\n        \"semantic_type\": \"\",\n        \"description\": \"\"\n      }\n    }\n  ]\n}"
            }
          },
          "metadata": {},
          "execution_count": 23
        }
      ]
    },
    {
      "cell_type": "markdown",
      "source": [
        "#String Manipulation"
      ],
      "metadata": {
        "id": "iOfeCXxw6erL"
      }
    },
    {
      "cell_type": "code",
      "source": [
        "# Strings Are Sequences\n",
        "s = \"Data science\"\n",
        "print(type(s))         # <class 'str'>\n",
        "print(len(s))          # 12\n"
      ],
      "metadata": {
        "id": "Atqmd-H_6j-5",
        "colab": {
          "base_uri": "https://localhost:8080/"
        },
        "outputId": "f1bfd838-8970-42f2-d459-88f5c485f8aa"
      },
      "execution_count": null,
      "outputs": [
        {
          "output_type": "stream",
          "name": "stdout",
          "text": [
            "<class 'str'>\n",
            "12\n"
          ]
        }
      ]
    },
    {
      "cell_type": "markdown",
      "source": [
        "Strings in Python are immutable sequences of characters.\n"
      ],
      "metadata": {
        "id": "-BC3VnWT8ROh"
      }
    },
    {
      "cell_type": "code",
      "source": [
        "# Indexing and Slicing\n",
        "print(s[0])            # 'D'\n",
        "print(s[-1])           # 'e'\n",
        "print(s[5:12])         # 'science'\n",
        "print(s[:4])           # 'Data'\n"
      ],
      "metadata": {
        "id": "W2anEZud8PGJ",
        "colab": {
          "base_uri": "https://localhost:8080/"
        },
        "outputId": "bbfeb46a-9c64-443a-a42a-ccd817031375"
      },
      "execution_count": null,
      "outputs": [
        {
          "output_type": "stream",
          "name": "stdout",
          "text": [
            "D\n",
            "e\n",
            "science\n",
            "Data\n"
          ]
        }
      ]
    },
    {
      "cell_type": "code",
      "source": [
        "# String Operations\n",
        "print(\"Data\" + \"Science\")   # 'DataScience'\n",
        "print(\"ha\" * 3)             # 'hahaha'\n"
      ],
      "metadata": {
        "id": "RLtKwnhJ8XQZ",
        "colab": {
          "base_uri": "https://localhost:8080/"
        },
        "outputId": "a3e39109-3f54-4315-aab1-37e9bc7759a8"
      },
      "execution_count": null,
      "outputs": [
        {
          "output_type": "stream",
          "name": "stdout",
          "text": [
            "DataScience\n",
            "hahaha\n"
          ]
        }
      ]
    },
    {
      "cell_type": "code",
      "source": [
        "# Membership Testing\n",
        "\n",
        "\"Data\" in s        # True\n",
        "\"science\" not in s # False"
      ],
      "metadata": {
        "id": "7gREDU2g8n6u",
        "colab": {
          "base_uri": "https://localhost:8080/"
        },
        "outputId": "c073252d-c523-4cae-b321-c46cd7fab0ee"
      },
      "execution_count": null,
      "outputs": [
        {
          "output_type": "execute_result",
          "data": {
            "text/plain": [
              "False"
            ]
          },
          "metadata": {},
          "execution_count": 27
        }
      ]
    },
    {
      "cell_type": "code",
      "source": [
        "# String Methods\n",
        "s = \"   Data Science is fun!   \"\n",
        "\n",
        "print(s.strip())           # Removes leading/trailing whitespace\n",
        "print(s.lower())           # '   data science is fun!   '\n",
        "print(s.upper())           # '   DATA SCIENCE IS FUN!   '\n",
        "print(s.replace(\"fun\", \"powerful\"))  # Replace substrings"
      ],
      "metadata": {
        "id": "O5UYm7kK8uTn",
        "colab": {
          "base_uri": "https://localhost:8080/"
        },
        "outputId": "a314850a-72e0-4a44-8075-e15e71974224"
      },
      "execution_count": null,
      "outputs": [
        {
          "output_type": "stream",
          "name": "stdout",
          "text": [
            "Data Science is fun!\n",
            "   data science is fun!   \n",
            "   DATA SCIENCE IS FUN!   \n",
            "   Data Science is powerful!   \n"
          ]
        }
      ]
    },
    {
      "cell_type": "code",
      "source": [
        "# Splitting and Joining\n",
        "\n",
        "words = s.strip().split()  # ['Data', 'Science', 'is', 'fun!']\n",
        "print(words)\n",
        "\n",
        "joined = \"-\".join(words)   # 'Data-Science-is-fun!'\n",
        "print(joined)\n"
      ],
      "metadata": {
        "id": "kVBbvMtL8udh",
        "colab": {
          "base_uri": "https://localhost:8080/"
        },
        "outputId": "c93c69ba-535e-45e4-80bc-6b27a5b929e9"
      },
      "execution_count": null,
      "outputs": [
        {
          "output_type": "stream",
          "name": "stdout",
          "text": [
            "['Data', 'Science', 'is', 'fun!']\n",
            "Data-Science-is-fun!\n"
          ]
        }
      ]
    },
    {
      "cell_type": "code",
      "source": [
        "# Searching and Finding\n",
        "text = \"Data science uses data to learn from data.\"\n",
        "\n",
        "print(text.find(\"data\"))       # First occurrence: 18 (case-sensitive)\n",
        "print(text.lower().count(\"data\"))  # Count occurrences: 3\n"
      ],
      "metadata": {
        "id": "2dfosARn83ix",
        "colab": {
          "base_uri": "https://localhost:8080/"
        },
        "outputId": "e72cc237-3415-4d21-eeaa-3d71c5ab2f48"
      },
      "execution_count": null,
      "outputs": [
        {
          "output_type": "stream",
          "name": "stdout",
          "text": [
            "18\n",
            "3\n"
          ]
        }
      ]
    },
    {
      "cell_type": "code",
      "source": [
        "# String Formatting\n",
        "name = \"Anne\"\n",
        "topic = \"Data Science\"\n",
        "\n",
        "print(f\"{name} studies {topic}.\")\n"
      ],
      "metadata": {
        "id": "6rldUEgn887d",
        "colab": {
          "base_uri": "https://localhost:8080/"
        },
        "outputId": "a2eb79c9-5bda-4277-fff3-60275d5a91ef"
      },
      "execution_count": null,
      "outputs": [
        {
          "output_type": "stream",
          "name": "stdout",
          "text": [
            "Anne studies Data Science.\n"
          ]
        }
      ]
    },
    {
      "cell_type": "code",
      "source": [
        "# .format() method\n",
        "\n",
        "print(\"{} studies {}.\".format(name, topic))"
      ],
      "metadata": {
        "id": "y6XadyvG9FU0",
        "colab": {
          "base_uri": "https://localhost:8080/"
        },
        "outputId": "b725407f-f4c2-45da-8b8a-decf95b33b22"
      },
      "execution_count": null,
      "outputs": [
        {
          "output_type": "stream",
          "name": "stdout",
          "text": [
            "Anne studies Data Science.\n"
          ]
        }
      ]
    },
    {
      "cell_type": "markdown",
      "source": [
        "Cleaning Text Data"
      ],
      "metadata": {
        "id": "fkyENaI89L-d"
      }
    },
    {
      "cell_type": "code",
      "source": [
        "dirty = \"~~Hello!!??\"\n",
        "clean = dirty.strip(\"~!?\")\n",
        "print(clean)  # 'Hello'\n"
      ],
      "metadata": {
        "id": "VMoxiRdA9JxB",
        "colab": {
          "base_uri": "https://localhost:8080/"
        },
        "outputId": "9299abd4-e570-48aa-f8c1-d9ef167d947a"
      },
      "execution_count": null,
      "outputs": [
        {
          "output_type": "stream",
          "name": "stdout",
          "text": [
            "Hello\n"
          ]
        }
      ]
    },
    {
      "cell_type": "markdown",
      "source": [
        "#Regex"
      ],
      "metadata": {
        "id": "aWpcDSPeyrUp"
      }
    },
    {
      "cell_type": "markdown",
      "source": [
        "This notebook walks through core regex skills that we'll use in NLP:\n",
        "- Exact vs. flexible matching\n",
        "- Character classes and ranges\n",
        "- Disjunction (`|`) and grouping\n",
        "- Wildcards & quantifiers: `. ? * + {m,n}`\n",
        "- Anchors `^` and `$`, word boundaries `\\b`\n",
        "- Convenient aliases: `\\d \\w \\s` and their negations\n",
        "- Flags (case-insensitive, multiline, dotall)\n",
        "- Iterative refinement to reduce false positives/negatives\n",
        "- A tiny ELIZA-style substitution demo\n"
      ],
      "metadata": {
        "id": "p4ctqM7JiNUs"
      }
    },
    {
      "cell_type": "code",
      "source": [
        "# Pattern-matching demo helper\n",
        "\n",
        "# Goal: Give us a small, repeatable way to *see* what a regex matches,\n",
        "# so we can iterate quickly during live coding and reason about:\n",
        "#   - false positives (things we matched but shouldn't)\n",
        "#   - false negatives (things we missed but should've matched)\n",
        "#   - the effect of flags (IGNORECASE, MULTILINE, DOTALL, etc.)\n",
        "#\n",
        "# Usage example:\n",
        "#   show_findall(r\"\\bthe\\b\", sample, flags=re.IGNORECASE, label=\"Whole-word 'the'\")\n",
        "#\n",
        "# Tip: Prefer raw strings for regex patterns (r\"...\") to avoid double-escaping.\n",
        "\n",
        "import re\n",
        "\n",
        "def show_findall(pattern: str, text: str, flags: int = 0, label: str | None = None) -> None:\n",
        "\n",
        "    if label:\n",
        "        print(f\"--- {label} ---\")\n",
        "    print(f\"pattern: {pattern!r}\")\n",
        "    if flags:\n",
        "        print(f\"flags  : {flags}\")\n",
        "    matches = re.findall(pattern, text, flags)\n",
        "    print(f\"matches ({len(matches)}):\", matches)\n",
        "    print()\n",
        "\n",
        "\n",
        "# Sample text: curated to exercise common regex skills in NLP\n",
        "\n",
        "\n",
        "sample = (\n",
        "    \"The woodchuck chuckled as Woodchucks met groundhogs.\\n\"\n",
        "    \"A groundhog (aka woodchuck) saw 3 shadow(s) on 2025-02-02.\\n\"\n",
        "    \"Email: example@test.edu  URL: https://uvm.edu  #AI is trending!\\n\"\n",
        "    \"OCR glitch: modem rnistake -> should be 'mistake'; l0g vs log; O vs 0\\n\"\n",
        "    \"the theology of otherness; there is another The \\n\"\n",
        ")"
      ],
      "metadata": {
        "id": "c0rA5QbH2zwF"
      },
      "execution_count": null,
      "outputs": []
    },
    {
      "cell_type": "markdown",
      "source": [
        "\n",
        "## 1) Basic matching"
      ],
      "metadata": {
        "id": "r-PfODhojb3U"
      }
    },
    {
      "cell_type": "code",
      "source": [
        "#lowercase woodchuck\n",
        "show_findall(r\"woodchuck\", text, label=\"Exact 'woodchuck' only (misses case/plural)\")\n",
        "\n",
        "#capitalized Woodchuck\n",
        "show_findall(r\"Woodchuck\", text, label=\"Capitalized only\")\n",
        "\n",
        "#capitallized or lowercase woodchuck or Woodchuck\n",
        "show_findall(r\"woodchuck|Woodchuck\", text, label=\"Alternation (|)\")\n",
        "\n",
        "#singular or plural woodchuck or woordchucks\n",
        "show_findall(r\"woodchucks?\", text, label=\"Singular or plural\")\n"
      ],
      "metadata": {
        "colab": {
          "base_uri": "https://localhost:8080/"
        },
        "id": "Lg90OlOPjZp6",
        "outputId": "c77738e1-ec8c-422b-8a4d-86543d4f63d3"
      },
      "execution_count": null,
      "outputs": [
        {
          "output_type": "stream",
          "name": "stdout",
          "text": [
            "--- Exact 'woodchuck' only (misses case/plural) ---\n",
            "pattern: 'woodchuck'\n",
            "matches (0): []\n",
            "\n",
            "--- Capitalized only ---\n",
            "pattern: 'Woodchuck'\n",
            "matches (0): []\n",
            "\n",
            "--- Alternation (|) ---\n",
            "pattern: 'woodchuck|Woodchuck'\n",
            "matches (0): []\n",
            "\n",
            "--- Singular or plural ---\n",
            "pattern: 'woodchucks?'\n",
            "matches (0): []\n",
            "\n"
          ]
        }
      ]
    },
    {
      "cell_type": "markdown",
      "source": [
        "## 2) Case-insensitive and simple plurals"
      ],
      "metadata": {
        "id": "f65hcxTYjfCL"
      }
    },
    {
      "cell_type": "code",
      "source": [
        "# Case-insensitive match\n",
        "show_findall(r\"woodchuck\", text, flags=re.IGNORECASE, label=\"Case-insensitive\")\n",
        "\n",
        "# Optional 's' using '?'\n",
        "show_findall(r\"woodchucks?\", text, flags=re.IGNORECASE, label=\"Singular or plural\")\n"
      ],
      "metadata": {
        "colab": {
          "base_uri": "https://localhost:8080/"
        },
        "id": "YTgenO2bjeOW",
        "outputId": "f32be014-06c4-48bc-fda3-10e87b3110e7"
      },
      "execution_count": null,
      "outputs": [
        {
          "output_type": "stream",
          "name": "stdout",
          "text": [
            "--- Case-insensitive ---\n",
            "pattern: 'woodchuck'\n",
            "flags  : re.IGNORECASE\n",
            "matches (0): []\n",
            "\n",
            "--- Singular or plural ---\n",
            "pattern: 'woodchucks?'\n",
            "flags  : re.IGNORECASE\n",
            "matches (0): []\n",
            "\n"
          ]
        }
      ]
    },
    {
      "cell_type": "markdown",
      "source": [
        "## 3) Disjunction `|` and grouping"
      ],
      "metadata": {
        "id": "eecpIhW5jnIa"
      }
    },
    {
      "cell_type": "code",
      "source": [
        "# Grouping lets us alternate between synonyms and capture what matched\n",
        "show_findall(r\"(woodchucks?|groundhogs?)\", text, flags=re.IGNORECASE,\n",
        "             label=\"Synonyms via alternation (|)\")\n"
      ],
      "metadata": {
        "colab": {
          "base_uri": "https://localhost:8080/"
        },
        "id": "Df_-6tQGt0rT",
        "outputId": "1d4968f4-b7ea-41a1-9af7-7052b89c4828"
      },
      "execution_count": null,
      "outputs": [
        {
          "output_type": "stream",
          "name": "stdout",
          "text": [
            "--- Synonyms via alternation (|) ---\n",
            "pattern: '(woodchucks?|groundhogs?)'\n",
            "flags  : re.IGNORECASE\n",
            "matches (0): []\n",
            "\n"
          ]
        }
      ]
    },
    {
      "cell_type": "markdown",
      "source": [
        "## 4) Character classes and ranges `[]`"
      ],
      "metadata": {
        "id": "-kKp3ZIxt2Iy"
      }
    },
    {
      "cell_type": "code",
      "source": [
        "# Example: words ending in -ing (simple heuristic)\n",
        "show_findall(r\"\\b[a-zA-Z]+ing\\b\", text, label=\"Tokens ending with -ing\")\n",
        "\n",
        "# Negated class: any non-digit characters around a number\n",
        "show_findall(r\"[^\\d]([0-9]+)[^\\d]\", text, label=\"Negated class around a number\")\n"
      ],
      "metadata": {
        "colab": {
          "base_uri": "https://localhost:8080/"
        },
        "id": "3mDOWZOtt3mh",
        "outputId": "4e521829-ce32-4793-f151-d3e996ece9f8"
      },
      "execution_count": null,
      "outputs": [
        {
          "output_type": "stream",
          "name": "stdout",
          "text": [
            "--- Tokens ending with -ing ---\n",
            "pattern: '\\\\b[a-zA-Z]+ing\\\\b'\n",
            "matches (0): []\n",
            "\n",
            "--- Negated class around a number ---\n",
            "pattern: '[^\\\\d]([0-9]+)[^\\\\d]'\n",
            "matches (0): []\n",
            "\n"
          ]
        }
      ]
    },
    {
      "cell_type": "markdown",
      "source": [
        "## 5) Wildcards & quantifiers: `. ? * + {m,n}`"
      ],
      "metadata": {
        "id": "eUxWbPdot5rm"
      }
    },
    {
      "cell_type": "code",
      "source": [
        "# Any three-letter token (VERY naive): word boundary + 3 word chars + boundary\n",
        "show_findall(r\"\\b\\w{3}\\b\", text, label=\"Any 3-letter token\")\n",
        "\n",
        "# URL-like strings (illustrative only)\n",
        "show_findall(r\"https?://\\S+\", text, label=\"Find URLs (simple heuristic)\")\n"
      ],
      "metadata": {
        "colab": {
          "base_uri": "https://localhost:8080/"
        },
        "id": "zpAzaQttt7R7",
        "outputId": "3cb4d2e4-c567-48ba-8461-755d30b8d733"
      },
      "execution_count": null,
      "outputs": [
        {
          "output_type": "stream",
          "name": "stdout",
          "text": [
            "--- Any 3-letter token ---\n",
            "pattern: '\\\\b\\\\w{3}\\\\b'\n",
            "matches (0): []\n",
            "\n",
            "--- Find URLs (simple heuristic) ---\n",
            "pattern: 'https?://\\\\S+'\n",
            "matches (0): []\n",
            "\n"
          ]
        }
      ]
    },
    {
      "cell_type": "markdown",
      "source": [
        "## 6) Anchors `^` and `$` (line starts/ends)"
      ],
      "metadata": {
        "id": "xq9NT5a1t9xX"
      }
    },
    {
      "cell_type": "code",
      "source": [
        "multiline = \"\"\"\n",
        "first line\n",
        "The second line\n",
        "last line\n",
        "\"\"\"\n",
        "\n",
        "# Without MULTILINE, ^ and $ match the start and end of the WHOLE string.\n",
        "show_findall(r\"^The.*$\", multiline, label=\"Anchors without MULTILINE\")\n",
        "\n",
        "# With MULTILINE, ^ and $ match each line's start/end.\n",
        "show_findall(r\"^The.*$\", multiline, flags=re.MULTILINE, label=\"Anchors with MULTILINE\")\n"
      ],
      "metadata": {
        "colab": {
          "base_uri": "https://localhost:8080/"
        },
        "id": "SPt8ZQ4guBHW",
        "outputId": "7dab8926-27ca-476f-b098-a4bbd5a4c5b2"
      },
      "execution_count": null,
      "outputs": [
        {
          "output_type": "stream",
          "name": "stdout",
          "text": [
            "--- Anchors without MULTILINE ---\n",
            "pattern: '^The.*$'\n",
            "matches (0): []\n",
            "\n",
            "--- Anchors with MULTILINE ---\n",
            "pattern: '^The.*$'\n",
            "flags  : re.MULTILINE\n",
            "matches (1): ['The second line']\n",
            "\n"
          ]
        }
      ]
    },
    {
      "cell_type": "markdown",
      "source": [
        "## 7) Word boundaries `\\b` vs. non-word `\\W` (the 'the' example)"
      ],
      "metadata": {
        "id": "fs1QC0vTuCcQ"
      }
    },
    {
      "cell_type": "code",
      "source": [
        "# Naive: matches 'the' inside other words (false positives)\n",
        "show_findall(r\"the\", text, label=\"Naive 'the' (false positives)\")\n",
        "\n",
        "# Basic case-sensitive word boundary: misses 'The' (false negatives)\n",
        "show_findall(r\"\\bthe\\b\", text, label=\"Word boundary 'the' only, case-sensitive\")\n",
        "\n",
        "# Case-insensitive whole-word\n",
        "show_findall(r\"\\bthe\\b\", text, flags=re.IGNORECASE, label=\"Whole-word 'the', case-insensitive\")\n",
        "\n",
        "# Slide-style alternative using non-word on both sides (can miss edge cases)\n",
        "show_findall(r\"\\W[tT]he\\W\", text, label=\"Using non-word delimiters (\\W)\")\n"
      ],
      "metadata": {
        "colab": {
          "base_uri": "https://localhost:8080/"
        },
        "id": "r6bZoS0LuEDq",
        "outputId": "a2abfdc0-845e-4b3f-f95a-a5de1fd65bc3"
      },
      "execution_count": null,
      "outputs": [
        {
          "output_type": "stream",
          "name": "stdout",
          "text": [
            "--- Naive 'the' (false positives) ---\n",
            "pattern: 'the'\n",
            "matches (0): []\n",
            "\n",
            "--- Word boundary 'the' only, case-sensitive ---\n",
            "pattern: '\\\\bthe\\\\b'\n",
            "matches (0): []\n",
            "\n",
            "--- Whole-word 'the', case-insensitive ---\n",
            "pattern: '\\\\bthe\\\\b'\n",
            "flags  : re.IGNORECASE\n",
            "matches (0): []\n",
            "\n",
            "--- Using non-word delimiters (\\W) ---\n",
            "pattern: '\\\\W[tT]he\\\\W'\n",
            "matches (0): []\n",
            "\n"
          ]
        }
      ]
    },
    {
      "cell_type": "markdown",
      "source": [
        "## 8) Convenient aliases: `\\d`, `\\w`, `\\s` (and negations `\\D`, `\\W`, `\\S`)"
      ],
      "metadata": {
        "id": "djvxq_vluGpy"
      }
    },
    {
      "cell_type": "code",
      "source": [
        "show_findall(r\"\\d+\", text, label=\"Digits (\\\\d+)\")\n",
        "show_findall(r\"\\w+@\\w+\\.\\w+\", text, label=\"Very naive email (for demo only)\")\n",
        "show_findall(r\"\\S+\", text, label=\"Non-whitespace chunks (\\\\S+)\")\n"
      ],
      "metadata": {
        "colab": {
          "base_uri": "https://localhost:8080/"
        },
        "id": "8HhOj-g_uI3t",
        "outputId": "62a5a066-0800-4eb0-ec2b-e94012438483"
      },
      "execution_count": null,
      "outputs": [
        {
          "output_type": "stream",
          "name": "stdout",
          "text": [
            "--- Digits (\\d+) ---\n",
            "pattern: '\\\\d+'\n",
            "matches (0): []\n",
            "\n",
            "--- Very naive email (for demo only) ---\n",
            "pattern: '\\\\w+@\\\\w+\\\\.\\\\w+'\n",
            "matches (0): []\n",
            "\n",
            "--- Non-whitespace chunks (\\S+) ---\n",
            "pattern: '\\\\S+'\n",
            "matches (8): ['Data', 'science', 'uses', 'data', 'to', 'learn', 'from', 'data.']\n",
            "\n"
          ]
        }
      ]
    },
    {
      "cell_type": "markdown",
      "source": [
        "## 9) Flags: `re.IGNORECASE`, `re.MULTILINE`, `re.DOTALL`"
      ],
      "metadata": {
        "id": "ZcecDiojuLUg"
      }
    },
    {
      "cell_type": "code",
      "source": [
        "blob = \"Header\\nLine 1.\\nLine 2 with AI.\\nFooter\"\n",
        "show_findall(r\"ai\", blob, label=\"No flags (case-sensitive)\")\n",
        "show_findall(r\"ai\", blob, flags=re.IGNORECASE, label=\"IGNORECASE\")\n",
        "show_findall(r\"^Line.*$\", blob, flags=re.MULTILINE, label=\"MULTILINE\")\n",
        "show_findall(r\"Header.*Footer\", blob, label=\"No DOTALL ('.' stops at newline)\")\n",
        "show_findall(r\"Header.*Footer\", blob, flags=re.DOTALL, label=\"DOTALL ('.' spans newlines)\")\n"
      ],
      "metadata": {
        "colab": {
          "base_uri": "https://localhost:8080/"
        },
        "id": "MHC1bH81uO2S",
        "outputId": "f3caca62-a0a7-474b-d25d-5ea4b6722b14"
      },
      "execution_count": null,
      "outputs": [
        {
          "output_type": "stream",
          "name": "stdout",
          "text": [
            "--- No flags (case-sensitive) ---\n",
            "pattern: 'ai'\n",
            "matches (0): []\n",
            "\n",
            "--- IGNORECASE ---\n",
            "pattern: 'ai'\n",
            "flags  : re.IGNORECASE\n",
            "matches (1): ['AI']\n",
            "\n",
            "--- MULTILINE ---\n",
            "pattern: '^Line.*$'\n",
            "flags  : re.MULTILINE\n",
            "matches (2): ['Line 1.', 'Line 2 with AI.']\n",
            "\n",
            "--- No DOTALL ('.' stops at newline) ---\n",
            "pattern: 'Header.*Footer'\n",
            "matches (0): []\n",
            "\n",
            "--- DOTALL ('.' spans newlines) ---\n",
            "pattern: 'Header.*Footer'\n",
            "flags  : re.DOTALL\n",
            "matches (1): ['Header\\nLine 1.\\nLine 2 with AI.\\nFooter']\n",
            "\n"
          ]
        }
      ]
    },
    {
      "cell_type": "markdown",
      "source": [
        "## 10) Iterative refinement: reduce false positives/negatives"
      ],
      "metadata": {
        "id": "r7I5Gn0ouRmD"
      }
    },
    {
      "cell_type": "code",
      "source": [
        "# Goal: find '#AI' style hashtags, but also allow letters/digits/underscores after '#'\n",
        "tweet_text = \"Hashtags: #AI #Ai #A_I #ArtificialIntelligence and #not-a-hashtag\"\n",
        "show_findall(r\"#AI\", tweet_text, label=\"Naive exact '#AI' only\")\n",
        "show_findall(r\"#ai\", tweet_text, flags=re.IGNORECASE, label=\"Case-insensitive '#ai' only\")\n",
        "show_findall(r\"#\\w+\", tweet_text, label=\"Any word-like hashtag (broad; includes #A_I)\")\n",
        "show_findall(r\"#(?:AI|ArtificialIntelligence)\\b\", tweet_text, label=\"Alternation with word boundary\")\n"
      ],
      "metadata": {
        "colab": {
          "base_uri": "https://localhost:8080/"
        },
        "id": "llkoI5lHuTYY",
        "outputId": "380a0a29-000f-478d-bb3e-d7e8b5b67776"
      },
      "execution_count": null,
      "outputs": [
        {
          "output_type": "stream",
          "name": "stdout",
          "text": [
            "--- Naive exact '#AI' only ---\n",
            "pattern: '#AI'\n",
            "matches (1): ['#AI']\n",
            "\n",
            "--- Case-insensitive '#ai' only ---\n",
            "pattern: '#ai'\n",
            "flags  : re.IGNORECASE\n",
            "matches (2): ['#AI', '#Ai']\n",
            "\n",
            "--- Any word-like hashtag (broad; includes #A_I) ---\n",
            "pattern: '#\\\\w+'\n",
            "matches (5): ['#AI', '#Ai', '#A_I', '#ArtificialIntelligence', '#not']\n",
            "\n",
            "--- Alternation with word boundary ---\n",
            "pattern: '#(?:AI|ArtificialIntelligence)\\\\b'\n",
            "matches (2): ['#AI', '#ArtificialIntelligence']\n",
            "\n"
          ]
        }
      ]
    },
    {
      "cell_type": "markdown",
      "source": [
        "## 11) Tiny ELIZA-style substitution demo (rule-based)"
      ],
      "metadata": {
        "id": "smHuOnC5uV0o"
      }
    },
    {
      "cell_type": "code",
      "source": [
        "def eliza_reply(utterance: str) -> str:\n",
        "    # Ordered list of (compiled_regex, response_function). First match wins.\n",
        "    rules = [\n",
        "        (\n",
        "            # Pattern 1: match \"I am depressed\" or \"I am sad\" anywhere in the text.\n",
        "            #   .*         -> any chars before the key phrase (greedy)\n",
        "            #   \\bI\\s+am\\s+ -> word boundary, 'I', one+ spaces, 'am', one+ spaces\n",
        "            #   (depressed|sad) -> capture either 'depressed' or 'sad' as group(1)\n",
        "            #   \\b.*       -> word boundary, then any chars after the mood word\n",
        "            re.compile(r\".*\\bI\\s+am\\s+(depressed|sad)\\b.*\", re.IGNORECASE),\n",
        "\n",
        "            # Response 1: use the captured mood (group 1), uppercased for emphasis.\n",
        "            lambda m: f\"WHY DO YOU THINK YOU ARE {m.group(1).upper()}?\"\n",
        "        ),\n",
        "        (\n",
        "            # Pattern 2: match \"I need X\" and capture whatever comes after as group(1).\n",
        "            #   .*              -> any leading chars\n",
        "            #   \\bI\\s+need\\s+   -> word boundary, 'I', spaces, 'need', spaces\n",
        "            #   (.*)            -> capture the rest of the line (greedy)\n",
        "            # Note: greedy (.*) will take everything to the end; that's fine for a demo,\n",
        "            # but in production you might prefer a non-greedy (.+?) with an end delimiter.\n",
        "            re.compile(r\".*\\bI\\s+need\\s+(.*)\", re.IGNORECASE),\n",
        "\n",
        "            # Response 2: reflect the user's stated need back to them.\n",
        "            lambda m: f\"WHAT WOULD IT MEAN TO YOU IF YOU GOT {m.group(1).upper()}?\"\n",
        "        ),\n",
        "    ]\n",
        "\n",
        "    # Try each (pattern, response) in order\n",
        "    for pat, resp in rules:\n",
        "        # pat.match matches at the start of the string; because our pattern begins with '.*',\n",
        "        # it effectively behaves like a search. Alternatively, pat.search(utterance) would\n",
        "        # work without needing '.*' at the front.\n",
        "        m = pat.match(utterance)\n",
        "        if m:                # If the pattern matched...\n",
        "            return resp(m)   # ...generate a reply using the captured groups.\n",
        "\n",
        "    # Fallback if nothing matched\n",
        "    return \"TELL ME MORE.\"\n",
        "\n",
        "# --- Demo runs ---\n",
        "for u in [\"I am sad today\", \"I need advice about deadlines\", \"Nothing in particular\"]:\n",
        "    # Print the input and ELIZA's reply\n",
        "    print(u, \"->\", eliza_reply(u))\n"
      ],
      "metadata": {
        "colab": {
          "base_uri": "https://localhost:8080/"
        },
        "id": "jXCNeA4zuXnC",
        "outputId": "873c9d0d-ceb8-4443-e9fb-467653b9811c"
      },
      "execution_count": null,
      "outputs": [
        {
          "output_type": "stream",
          "name": "stdout",
          "text": [
            "I am sad today -> WHY DO YOU THINK YOU ARE SAD?\n",
            "I need advice about deadlines -> WHAT WOULD IT MEAN TO YOU IF YOU GOT ADVICE ABOUT DEADLINES?\n",
            "Nothing in particular -> TELL ME MORE.\n"
          ]
        }
      ]
    }
  ]
}