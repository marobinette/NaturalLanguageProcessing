{
  "cells": [
    {
      "cell_type": "markdown",
      "metadata": {
        "id": "DUw3E_waI-Zc"
      },
      "source": [
        "#imports"
      ]
    },
    {
      "cell_type": "code",
      "execution_count": 1,
      "metadata": {
        "colab": {
          "base_uri": "https://localhost:8080/"
        },
        "id": "grdXDDBKJAtF",
        "outputId": "102a8112-219e-4dc4-c94a-c41d9f9303f6"
      },
      "outputs": [
        {
          "name": "stdout",
          "output_type": "stream",
          "text": [
            "Collecting shifterator\n",
            "  Downloading shifterator-0.3.0-py3-none-any.whl.metadata (2.1 kB)\n",
            "Requirement already satisfied: matplotlib in /opt/anaconda3/lib/python3.13/site-packages (from shifterator) (3.10.0)\n",
            "Requirement already satisfied: numpy in /opt/anaconda3/lib/python3.13/site-packages (from shifterator) (1.26.4)\n",
            "Requirement already satisfied: contourpy>=1.0.1 in /opt/anaconda3/lib/python3.13/site-packages (from matplotlib->shifterator) (1.3.1)\n",
            "Requirement already satisfied: cycler>=0.10 in /opt/anaconda3/lib/python3.13/site-packages (from matplotlib->shifterator) (0.11.0)\n",
            "Requirement already satisfied: fonttools>=4.22.0 in /opt/anaconda3/lib/python3.13/site-packages (from matplotlib->shifterator) (4.55.3)\n",
            "Requirement already satisfied: kiwisolver>=1.3.1 in /opt/anaconda3/lib/python3.13/site-packages (from matplotlib->shifterator) (1.4.8)\n",
            "Requirement already satisfied: packaging>=20.0 in /opt/anaconda3/lib/python3.13/site-packages (from matplotlib->shifterator) (24.2)\n",
            "Requirement already satisfied: pillow>=8 in /opt/anaconda3/lib/python3.13/site-packages (from matplotlib->shifterator) (11.1.0)\n",
            "Requirement already satisfied: pyparsing>=2.3.1 in /opt/anaconda3/lib/python3.13/site-packages (from matplotlib->shifterator) (3.2.0)\n",
            "Requirement already satisfied: python-dateutil>=2.7 in /opt/anaconda3/lib/python3.13/site-packages (from matplotlib->shifterator) (2.9.0.post0)\n",
            "Requirement already satisfied: six>=1.5 in /opt/anaconda3/lib/python3.13/site-packages (from python-dateutil>=2.7->matplotlib->shifterator) (1.17.0)\n",
            "Downloading shifterator-0.3.0-py3-none-any.whl (40.4 MB)\n",
            "\u001b[2K   \u001b[90m━━━━━━━━━━━━━━━━━━━━━━━━━━━━━━━━━━━━━━━━\u001b[0m \u001b[32m40.4/40.4 MB\u001b[0m \u001b[31m25.6 MB/s\u001b[0m eta \u001b[36m0:00:00\u001b[0ma \u001b[36m0:00:01\u001b[0m\n",
            "\u001b[?25hInstalling collected packages: shifterator\n",
            "Successfully installed shifterator-0.3.0\n"
          ]
        }
      ],
      "source": [
        "!pip install shifterator"
      ]
    },
    {
      "cell_type": "code",
      "execution_count": 2,
      "metadata": {
        "id": "AZU9sqwT4NjD"
      },
      "outputs": [],
      "source": [
        "import numpy as np\n",
        "import matplotlib.pyplot as plt\n",
        "import re\n",
        "from urllib import request\n",
        "import shifterator as sh\n",
        "import numpy as np\n",
        "import matplotlib as plt\n",
        "import sklearn as sk\n",
        "import seaborn as sns\n",
        "import pandas as pd\n",
        "from urllib import request\n",
        "import os\n",
        "import nltk\n",
        "import re\n",
        "from nltk.probability import FreqDist\n",
        "import math\n",
        "from sklearn.feature_extraction.text import TfidfVectorizer"
      ]
    },
    {
      "cell_type": "code",
      "execution_count": 3,
      "metadata": {
        "colab": {
          "base_uri": "https://localhost:8080/"
        },
        "id": "9c_IE4haJBUJ",
        "outputId": "46e4cafc-ebfe-4c8c-d319-960c0ab40a18"
      },
      "outputs": [
        {
          "name": "stderr",
          "output_type": "stream",
          "text": [
            "[nltk_data] Downloading package punkt to\n",
            "[nltk_data]     /Users/marobinette/nltk_data...\n",
            "[nltk_data]   Package punkt is already up-to-date!\n",
            "[nltk_data] Downloading package stopwords to\n",
            "[nltk_data]     /Users/marobinette/nltk_data...\n",
            "[nltk_data]   Package stopwords is already up-to-date!\n",
            "[nltk_data] Downloading package punkt_tab to\n",
            "[nltk_data]     /Users/marobinette/nltk_data...\n",
            "[nltk_data]   Unzipping tokenizers/punkt_tab.zip.\n"
          ]
        },
        {
          "data": {
            "text/plain": [
              "True"
            ]
          },
          "execution_count": 3,
          "metadata": {},
          "output_type": "execute_result"
        }
      ],
      "source": [
        "nltk.download('punkt')\n",
        "nltk.download('stopwords')\n",
        "nltk.download('punkt_tab')"
      ]
    },
    {
      "cell_type": "markdown",
      "metadata": {
        "id": "NqpxiXOVIcc6"
      },
      "source": [
        "#data"
      ]
    },
    {
      "cell_type": "code",
      "execution_count": 4,
      "metadata": {
        "id": "Qoqvj-b8Id31"
      },
      "outputs": [],
      "source": [
        "# read text file into pandas DataFrame\n",
        "\n",
        "JJ_title = 'Ulysses'\n",
        "JJ_author = 'James Joyce'\n",
        "JJ_url = \"https://www.gutenberg.org/files/4300/4300-0.txt\"\n",
        "\n",
        "JJ_response = request.urlopen(JJ_url)\n",
        "JJ_raw = JJ_response.read()\n",
        "JJ_text = JJ_raw.decode(\"utf-8-sig\")"
      ]
    },
    {
      "cell_type": "code",
      "execution_count": 5,
      "metadata": {
        "id": "WbgYSnEeJ6_3"
      },
      "outputs": [],
      "source": [
        "# read text file into pandas DataFrame\n",
        "\n",
        "MD_title = 'Moby Dick'\n",
        "MD_author = 'Herman Melville'\n",
        "MD_url = \"https://www.gutenberg.org/cache/epub/2701/pg2701.txt\"\n",
        "\n",
        "MD_response = request.urlopen(MD_url)\n",
        "MD_raw = MD_response.read()\n",
        "MD_text = MD_raw.decode(\"utf-8-sig\")"
      ]
    },
    {
      "cell_type": "code",
      "execution_count": 6,
      "metadata": {
        "colab": {
          "base_uri": "https://localhost:8080/"
        },
        "id": "7fv813zlI5N7",
        "outputId": "006abb32-2b97-4243-db88-88e282ef0d9e"
      },
      "outputs": [
        {
          "name": "stdout",
          "output_type": "stream",
          "text": [
            "104\n"
          ]
        }
      ],
      "source": [
        "#regex to get at the start of the PG book\n",
        "start_regex = r'\\*\\*\\*\\s?START OF TH(IS|E) PROJECT GUTENBERG EBOOK.*\\*\\*\\*'\n",
        "draft_start_position = re.search(start_regex, JJ_text)\n",
        "begining = draft_start_position.end()\n",
        "\n",
        "if re.search(re.escape(JJ_title).lower(), JJ_text[draft_start_position.end():].lower()):\n",
        "    title_position = re.search(re.escape(JJ_title).lower(), JJ_text[draft_start_position.end():].lower())\n",
        "    begining += title_position.end()\n",
        "    # If the title is present, check for the author's name as well\n",
        "    if re.search(re.escape(JJ_author).lower(), JJ_text[draft_start_position.end() + title_position.end():].lower()):\n",
        "        author_position = re.search(re.escape(JJ_author).lower(), JJ_text[draft_start_position.end() + title_position.end():].lower())\n",
        "        begining += author_position.end()\n",
        "\n",
        "print(begining)"
      ]
    },
    {
      "cell_type": "code",
      "execution_count": 7,
      "metadata": {
        "colab": {
          "base_uri": "https://localhost:8080/"
        },
        "id": "PqIxXopmKTEC",
        "outputId": "9cd640d1-2e33-43ba-b2cc-d6bd042bb3a1"
      },
      "outputs": [
        {
          "name": "stdout",
          "output_type": "stream",
          "text": [
            "2129\n"
          ]
        }
      ],
      "source": [
        "#regex to get at the start of the PG book\n",
        "start_regex = r'\\*\\*\\*\\s?START OF TH(IS|E) PROJECT GUTENBERG EBOOK.*\\*\\*\\*'\n",
        "draft_start_position = re.search(start_regex, MD_text)\n",
        "begining = draft_start_position.end()\n",
        "\n",
        "if re.search(re.escape(MD_title).lower(), MD_text[draft_start_position.end():].lower()):\n",
        "    title_position = re.search(re.escape(MD_title).lower(), MD_text[draft_start_position.end():].lower())\n",
        "    begining += title_position.end()\n",
        "    # If the title is present, check for the author's name as well\n",
        "    if re.search(re.escape(MD_author).lower(), MD_text[draft_start_position.end() + title_position.end():].lower()):\n",
        "        author_position = re.search(re.escape(MD_author).lower(), MD_text[draft_start_position.end() + title_position.end():].lower())\n",
        "        begining += author_position.end()\n",
        "\n",
        "print(begining)"
      ]
    },
    {
      "cell_type": "code",
      "execution_count": 8,
      "metadata": {
        "colab": {
          "base_uri": "https://localhost:8080/"
        },
        "id": "6IgRbwHrJOIu",
        "outputId": "68b70eac-f0e3-48ac-c371-da4fcbb54cbe"
      },
      "outputs": [
        {
          "data": {
            "text/plain": [
              "1241715"
            ]
          },
          "execution_count": 8,
          "metadata": {},
          "output_type": "execute_result"
        }
      ],
      "source": [
        "#now lets find the end of the book\n",
        "end_regex = 'end of th(is|e) project gutenberg ebook'\n",
        "end_position = re.search(end_regex, MD_text.lower())\n",
        "end_position.start()"
      ]
    },
    {
      "cell_type": "code",
      "execution_count": 9,
      "metadata": {
        "colab": {
          "base_uri": "https://localhost:8080/"
        },
        "id": "hrJh1Cg3Kkpu",
        "outputId": "f4ebbdad-198d-4c02-8875-cb7f0e19e092"
      },
      "outputs": [
        {
          "data": {
            "text/plain": [
              "1552610"
            ]
          },
          "execution_count": 9,
          "metadata": {},
          "output_type": "execute_result"
        }
      ],
      "source": [
        "#now lets find the end of the book\n",
        "end_regex = 'end of th(is|e) project gutenberg ebook'\n",
        "end_position = re.search(end_regex, JJ_text.lower())\n",
        "end_position.start()"
      ]
    },
    {
      "cell_type": "code",
      "execution_count": 10,
      "metadata": {
        "id": "ggxobtqDJQS0"
      },
      "outputs": [],
      "source": [
        "#now lets find the end of the book\n",
        "end_regex = 'end of th(is|e) project gutenberg ebook'\n",
        "end_position = re.search(end_regex, JJ_text.lower())\n",
        "\n",
        "# Now we’ll grab the raw text from the end of the title to the beginning of the postamble.\n",
        "JJ_text = JJ_text[begining:end_position.start()]"
      ]
    },
    {
      "cell_type": "code",
      "execution_count": 11,
      "metadata": {
        "id": "tcee7UmyKt31"
      },
      "outputs": [],
      "source": [
        "#now lets find the end of the book\n",
        "end_regex = 'end of th(is|e) project gutenberg ebook'\n",
        "end_position = re.search(end_regex, MD_text.lower())\n",
        "\n",
        "# Now we’ll grab the raw text from the end of the title to the beginning of the postamble.\n",
        "MD_text = MD_text[begining:end_position.start()]"
      ]
    },
    {
      "cell_type": "code",
      "execution_count": 12,
      "metadata": {
        "colab": {
          "base_uri": "https://localhost:8080/",
          "height": 498
        },
        "id": "3irWb2RVJtj-",
        "outputId": "6311e645-3924-4f82-cffa-af96ff263830"
      },
      "outputs": [
        {
          "data": {
            "text/plain": [
              "<Axes: xlabel='Samples', ylabel='Counts'>"
            ]
          },
          "execution_count": 12,
          "metadata": {},
          "output_type": "execute_result"
        },
        {
          "data": {
            "image/png": "[encoded data removed]",
            "text/plain": [
              "<Figure size 640x480 with 1 Axes>"
            ]
          },
          "metadata": {},
          "output_type": "display_data"
        }
      ],
      "source": [
        "#if we want to get the frequency distribution of the words\n",
        "\n",
        "words = nltk.word_tokenize(JJ_text)\n",
        "fd = FreqDist(words)\n",
        "\n",
        "#visuzlize a plot\n",
        "fd.plot(25, cumulative=False)"
      ]
    },
    {
      "cell_type": "code",
      "execution_count": 13,
      "metadata": {
        "colab": {
          "base_uri": "https://localhost:8080/",
          "height": 502
        },
        "id": "0nYt3nB2Kx_5",
        "outputId": "3d72bed8-67d2-4cc7-fd48-e4e8b76b6f6a"
      },
      "outputs": [
        {
          "data": {
            "text/plain": [
              "<Axes: xlabel='Samples', ylabel='Counts'>"
            ]
          },
          "execution_count": 13,
          "metadata": {},
          "output_type": "execute_result"
        },
        {
          "data": {
            "image/png": "[encoded data removed]",
            "text/plain": [
              "<Figure size 640x480 with 1 Axes>"
            ]
          },
          "metadata": {},
          "output_type": "display_data"
        }
      ],
      "source": [
        "#if we want to get the frequency distribution of the words\n",
        "\n",
        "words = nltk.word_tokenize(MD_text)\n",
        "fd = FreqDist(words)\n",
        "\n",
        "#visuzlize a plot\n",
        "fd.plot(25, cumulative=False)"
      ]
    },
    {
      "cell_type": "markdown",
      "metadata": {
        "id": "Kpl3dEUNGO8B"
      },
      "source": [
        "#Basic bag of words frequency counts"
      ]
    },
    {
      "cell_type": "code",
      "execution_count": 14,
      "metadata": {
        "colab": {
          "base_uri": "https://localhost:8080/"
        },
        "id": "sammVtpKGTqY",
        "outputId": "8c56adca-99a9-4096-97e7-d326545b8830"
      },
      "outputs": [
        {
          "name": "stdout",
          "output_type": "stream",
          "text": [
            "Our documents:\n",
            "Doc 1: Call me Ishmael. Some years ago—never mind how long precisely—having little or no money in my purse\n",
            "Doc 2: and nothing particular to interest me on shore, I thought I would sail about a little and see the watery part of the world.\n",
            "\n",
            "Vocabulary: ['Call', 'I', 'Ishmael.', 'Some', 'a', 'about', 'ago—never', 'and', 'how', 'in', 'interest', 'little', 'long', 'me', 'mind', 'money', 'my', 'no', 'nothing', 'of', 'on', 'or', 'part', 'particular', 'precisely—having', 'purse', 'sail', 'see', 'shore,', 'the', 'thought', 'to', 'watery', 'world.', 'would', 'years']\n",
            "Vocabulary size: 36\n"
          ]
        }
      ],
      "source": [
        "# Bag of Words frequency counts\n",
        "\n",
        "# Multiple documents (our \"corpus\")\n",
        "docs = [\"Call me Ishmael. Some years ago—never mind how long precisely—having little or no money in my purse\",\n",
        "        \"and nothing particular to interest me on shore, I thought I would sail about a little and see the watery part of the world.\"\n",
        "]\n",
        "\n",
        "print(\"Our documents:\")\n",
        "for i, doc in enumerate(docs):\n",
        "    print(f\"Doc {i+1}: {doc}\")\n",
        "\n",
        "# Step 1: Create vocabulary (all unique words)\n",
        "vocab = set()\n",
        "for doc in docs:\n",
        "    words = doc.split()\n",
        "    vocab.update(words)\n",
        "\n",
        "vocab = sorted(list(vocab))  # sort for consistency\n",
        "print(f\"\\nVocabulary: {vocab}\")\n",
        "print(f\"Vocabulary size: {len(vocab)}\")"
      ]
    },
    {
      "cell_type": "code",
      "execution_count": 15,
      "metadata": {
        "id": "Z8cSB6PhGetB"
      },
      "outputs": [],
      "source": [
        "# Step 2: Create bag of words matrix\n",
        "# Each row = document, each column = word\n",
        "bag_of_words = []\n",
        "\n",
        "for doc in docs:\n",
        "    doc_vector = []\n",
        "    words_in_doc = doc.split()\n",
        "\n",
        "    for word in vocab:\n",
        "        count = words_in_doc.count(word)\n",
        "        doc_vector.append(count)\n",
        "\n",
        "    bag_of_words.append(doc_vector)"
      ]
    },
    {
      "cell_type": "code",
      "execution_count": 16,
      "metadata": {
        "colab": {
          "base_uri": "https://localhost:8080/"
        },
        "id": "MP43CgeXGg6m",
        "outputId": "341356bf-0641-4ac1-95d2-37dc650d4deb"
      },
      "outputs": [
        {
          "name": "stdout",
          "output_type": "stream",
          "text": [
            "\n",
            "Bag of Words Matrix:\n",
            "                Call       IIshmael.    Some       a   aboutago—never     and     how      ininterest  little    long      me    mind   money      my      no nothing      of      on      or    partparticularprecisely—having   purse    sail     see  shore,     the thought      to  watery  world.   would   years\n",
            "Doc  1:            1       0       1       1       0       0       1       0       1       1       0       1       1       1       1       1       1       1       0       0       0       1       0       0       1       1       0       0       0       0       0       0       0       0       0       1\n",
            "Doc  2:            0       2       0       0       1       1       0       2       0       0       1       1       0       1       0       0       0       0       1       1       1       0       1       1       0       0       1       1       1       2       1       1       1       1       1       0\n"
          ]
        }
      ],
      "source": [
        "# Display the matrix\n",
        "print(f\"\\nBag of Words Matrix:\")\n",
        "print(f\"{'':12}\", end=\"\")\n",
        "for word in vocab:\n",
        "    print(f\"{word:>8}\", end=\"\")\n",
        "print()\n",
        "\n",
        "for i, vector in enumerate(bag_of_words):\n",
        "    print(f\"Doc {i+1:2d}:     \", end=\"\")\n",
        "    for count in vector:\n",
        "        print(f\"{count:>8}\", end=\"\")\n",
        "    print()"
      ]
    },
    {
      "cell_type": "code",
      "execution_count": 17,
      "metadata": {
        "colab": {
          "base_uri": "https://localhost:8080/"
        },
        "id": "iwQkuT9OGjdV",
        "outputId": "3d030754-a379-467b-8336-637064fa0a14"
      },
      "outputs": [
        {
          "name": "stdout",
          "output_type": "stream",
          "text": [
            "\n",
            "Total frequencies:\n",
            "Call: 1\n",
            "I: 2\n",
            "Ishmael.: 1\n",
            "Some: 1\n",
            "a: 1\n",
            "about: 1\n",
            "ago—never: 1\n",
            "and: 2\n",
            "how: 1\n",
            "in: 1\n",
            "interest: 1\n",
            "little: 2\n",
            "long: 1\n",
            "me: 2\n",
            "mind: 1\n",
            "money: 1\n",
            "my: 1\n",
            "no: 1\n",
            "nothing: 1\n",
            "of: 1\n",
            "on: 1\n",
            "or: 1\n",
            "part: 1\n",
            "particular: 1\n",
            "precisely—having: 1\n",
            "purse: 1\n",
            "sail: 1\n",
            "see: 1\n",
            "shore,: 1\n",
            "the: 2\n",
            "thought: 1\n",
            "to: 1\n",
            "watery: 1\n",
            "world.: 1\n",
            "would: 1\n",
            "years: 1\n"
          ]
        }
      ],
      "source": [
        "# Step 3: Total word frequencies across corpus\n",
        "total_freq = [0] * len(vocab)\n",
        "for vector in bag_of_words:\n",
        "    for i, count in enumerate(vector):\n",
        "        total_freq[i] += count\n",
        "\n",
        "print(f\"\\nTotal frequencies:\")\n",
        "for word, freq in zip(vocab, total_freq):\n",
        "    print(f\"{word}: {freq}\")"
      ]
    },
    {
      "cell_type": "code",
      "execution_count": 18,
      "metadata": {
        "colab": {
          "base_uri": "https://localhost:8080/",
          "height": 491
        },
        "id": "mMwmuKZXGRdv",
        "outputId": "8542d2fa-baa4-4fb4-b5e4-3026fe5b18e5"
      },
      "outputs": [
        {
          "ename": "AttributeError",
          "evalue": "module 'matplotlib' has no attribute 'bar'",
          "output_type": "error",
          "traceback": [
            "\u001b[0;31m---------------------------------------------------------------------------\u001b[0m",
            "\u001b[0;31mAttributeError\u001b[0m                            Traceback (most recent call last)",
            "Cell \u001b[0;32mIn[18], line 2\u001b[0m\n\u001b[1;32m      1\u001b[0m \u001b[38;5;66;03m# Simple visualization\u001b[39;00m\n\u001b[0;32m----> 2\u001b[0m plt\u001b[38;5;241m.\u001b[39mbar(vocab, total_freq)\n\u001b[1;32m      3\u001b[0m plt\u001b[38;5;241m.\u001b[39mxticks(rotation\u001b[38;5;241m=\u001b[39m\u001b[38;5;241m45\u001b[39m)\n\u001b[1;32m      4\u001b[0m plt\u001b[38;5;241m.\u001b[39mtitle(\u001b[38;5;124m\"\u001b[39m\u001b[38;5;124mWord Frequencies (Bag of Words)\u001b[39m\u001b[38;5;124m\"\u001b[39m)\n",
            "File \u001b[0;32m/opt/anaconda3/lib/python3.13/site-packages/matplotlib/_api/__init__.py:218\u001b[0m, in \u001b[0;36mcaching_module_getattr.<locals>.__getattr__\u001b[0;34m(name)\u001b[0m\n\u001b[1;32m    216\u001b[0m \u001b[38;5;28;01mif\u001b[39;00m name \u001b[38;5;129;01min\u001b[39;00m props:\n\u001b[1;32m    217\u001b[0m     \u001b[38;5;28;01mreturn\u001b[39;00m props[name]\u001b[38;5;241m.\u001b[39m\u001b[38;5;21m__get__\u001b[39m(instance)\n\u001b[0;32m--> 218\u001b[0m \u001b[38;5;28;01mraise\u001b[39;00m \u001b[38;5;167;01mAttributeError\u001b[39;00m(\n\u001b[1;32m    219\u001b[0m     \u001b[38;5;124mf\u001b[39m\u001b[38;5;124m\"\u001b[39m\u001b[38;5;124mmodule \u001b[39m\u001b[38;5;132;01m{\u001b[39;00m\u001b[38;5;28mcls\u001b[39m\u001b[38;5;241m.\u001b[39m\u001b[38;5;18m__module__\u001b[39m\u001b[38;5;132;01m!r}\u001b[39;00m\u001b[38;5;124m has no attribute \u001b[39m\u001b[38;5;132;01m{\u001b[39;00mname\u001b[38;5;132;01m!r}\u001b[39;00m\u001b[38;5;124m\"\u001b[39m)\n",
            "\u001b[0;31mAttributeError\u001b[0m: module 'matplotlib' has no attribute 'bar'"
          ]
        }
      ],
      "source": [
        "# Simple visualization\n",
        "plt.bar(vocab, total_freq)\n",
        "plt.xticks(rotation=45)\n",
        "plt.title(\"Word Frequencies (Bag of Words)\")\n",
        "plt.ylabel(\"Total Count\")\n",
        "plt.tight_layout()\n",
        "plt.show()"
      ]
    },
    {
      "cell_type": "markdown",
      "metadata": {
        "id": "VrcQmUlieGNC"
      },
      "source": [
        "#Basic frequency"
      ]
    },
    {
      "cell_type": "code",
      "execution_count": null,
      "metadata": {
        "id": "qphw17bA4e27"
      },
      "outputs": [],
      "source": [
        "# Sample text\n",
        "text = \"Call me Ishmael. Some years ago—never mind how long precisely—having little or no money in my purse, and nothing particular to interest me on shore, I thought I would sail about a little and see the watery part of the world.\""
      ]
    },
    {
      "cell_type": "code",
      "execution_count": null,
      "metadata": {
        "colab": {
          "base_uri": "https://localhost:8080/"
        },
        "id": "DONy9frg4pR5",
        "outputId": "6a7f5ab8-4dc5-4180-cbc7-a54c863e2a13"
      },
      "outputs": [
        {
          "name": "stdout",
          "output_type": "stream",
          "text": [
            "Words: ['call', 'me', 'ishmael.', 'some', 'years', 'ago—never', 'mind', 'how', 'long', 'precisely—having', 'little', 'or', 'no', 'money', 'in', 'my', 'purse,', 'and', 'nothing', 'particular', 'to', 'interest', 'me', 'on', 'shore,', 'i', 'thought', 'i', 'would', 'sail', 'about', 'a', 'little', 'and', 'see', 'the', 'watery', 'part', 'of', 'the', 'world.']\n"
          ]
        }
      ],
      "source": [
        "# Step 1: Basic tokenization\n",
        "words = text.lower().split()\n",
        "print(\"Words:\", words)"
      ]
    },
    {
      "cell_type": "code",
      "execution_count": null,
      "metadata": {
        "colab": {
          "base_uri": "https://localhost:8080/"
        },
        "id": "XxQgegxc4qyQ",
        "outputId": "4645ab92-5975-4092-da33-e48f463834d5"
      },
      "outputs": [
        {
          "name": "stdout",
          "output_type": "stream",
          "text": [
            "\n",
            "Word counts: {'call': 1, 'me': 2, 'ishmael.': 1, 'some': 1, 'years': 1, 'ago—never': 1, 'mind': 1, 'how': 1, 'long': 1, 'precisely—having': 1, 'little': 2, 'or': 1, 'no': 1, 'money': 1, 'in': 1, 'my': 1, 'purse,': 1, 'and': 2, 'nothing': 1, 'particular': 1, 'to': 1, 'interest': 1, 'on': 1, 'shore,': 1, 'i': 2, 'thought': 1, 'would': 1, 'sail': 1, 'about': 1, 'a': 1, 'see': 1, 'the': 2, 'watery': 1, 'part': 1, 'of': 1, 'world.': 1}\n"
          ]
        }
      ],
      "source": [
        "# Step 2: Count frequencies\n",
        "word_counts = {}\n",
        "for word in words:\n",
        "    if word in word_counts:\n",
        "        word_counts[word] += 1\n",
        "    else:\n",
        "        word_counts[word] = 1\n",
        "\n",
        "print(\"\\nWord counts:\", word_counts)"
      ]
    },
    {
      "cell_type": "code",
      "execution_count": null,
      "metadata": {
        "colab": {
          "base_uri": "https://localhost:8080/"
        },
        "id": "Yr6yoD354uL-",
        "outputId": "c59b6ad6-5a35-43fc-e160-8af87d2418d7"
      },
      "outputs": [
        {
          "name": "stdout",
          "output_type": "stream",
          "text": [
            "\n",
            "Sorted by frequency:\n",
            "me: 2\n",
            "little: 2\n",
            "and: 2\n",
            "i: 2\n",
            "the: 2\n",
            "call: 1\n",
            "ishmael.: 1\n",
            "some: 1\n",
            "years: 1\n",
            "ago—never: 1\n",
            "mind: 1\n",
            "how: 1\n",
            "long: 1\n",
            "precisely—having: 1\n",
            "or: 1\n",
            "no: 1\n",
            "money: 1\n",
            "in: 1\n",
            "my: 1\n",
            "purse,: 1\n",
            "nothing: 1\n",
            "particular: 1\n",
            "to: 1\n",
            "interest: 1\n",
            "on: 1\n",
            "shore,: 1\n",
            "thought: 1\n",
            "would: 1\n",
            "sail: 1\n",
            "about: 1\n",
            "a: 1\n",
            "see: 1\n",
            "watery: 1\n",
            "part: 1\n",
            "of: 1\n",
            "world.: 1\n"
          ]
        }
      ],
      "source": [
        "# Step 3: Sort by frequency\n",
        "sorted_words = sorted(word_counts.items(), key=lambda x: x[1], reverse=True)\n",
        "print(\"\\nSorted by frequency:\")\n",
        "for word, count in sorted_words:\n",
        "    print(f\"{word}: {count}\")"
      ]
    },
    {
      "cell_type": "code",
      "execution_count": null,
      "metadata": {
        "colab": {
          "base_uri": "https://localhost:8080/",
          "height": 550
        },
        "id": "o3ldEry5dWNg",
        "outputId": "f276ec06-2bd4-4454-ed58-1903584acc4a"
      },
      "outputs": [
        {
          "data": {
            "image/png": "[encoded data removed]",
            "text/plain": [
              "<Figure size 1500x500 with 1 Axes>"
            ]
          },
          "metadata": {},
          "output_type": "display_data"
        }
      ],
      "source": [
        "# Step 4: Simple plot\n",
        "\n",
        "#make plot longer\n",
        "plt.rcParams[\"figure.figsize\"] = (15, 5)\n",
        "\n",
        "words_list = [item[0] for item in sorted_words]\n",
        "counts_list = [item[1] for item in sorted_words]\n",
        "\n",
        "plt.bar(words_list, counts_list)\n",
        "plt.xticks(rotation=45)\n",
        "#only show integers of 1 in the y asxis\n",
        "plt.yticks(np.arange(0, max(counts_list)+1, 1))\n",
        "\n",
        "plt.title(\"Word Frequencies\")\n",
        "plt.show()"
      ]
    },
    {
      "cell_type": "markdown",
      "metadata": {
        "id": "RkAjNZRBG64T"
      },
      "source": [
        "#TF_IDF"
      ]
    },
    {
      "cell_type": "code",
      "execution_count": null,
      "metadata": {
        "id": "gxlcRa0iQ-TD"
      },
      "outputs": [],
      "source": [
        "docs = [\n",
        "    \"Call me Ishmael.\",\n",
        "    \"Some years ago—never mind how long precisely—having little or no money in my purse, and nothing particular to interest me on shore, I thought I would sail about a little and see the watery part of the world.\",\n",
        "    \"It is a way I have of driving off the spleen and regulating the circulation.\",\n",
        "    \"Whenever I find myself growing grim about the mouth; whenever it is a damp, drizzly November in my soul; whenever I find myself involuntarily pausing before coffin warehouses, and bringing up the rear of every funeral I meet; and especially whenever my hypos get such an upper hand of me, that it requires a strong moral principle to prevent me from deliberately stepping into the street, and methodically knocking people’s hats off—then, I account it high time to get to sea as soon as I can.\",\n",
        "    \"This is my substitute for pistol and ball.\",\n",
        "    \"With a philosophical flourish Cato throws himself upon his sword; I quietly take to the ship.\",\n",
        "    \"There is nothing surprising in this.\",\n",
        "    \"If they but knew it, almost all men in their degree, some time or other, cherish very nearly the same feelings towards the ocean with me.\",\n",
        "    \"There now is your insular city of the Manhattoes, belted round by wharves as Indian isles by coral reefs—commerce surrounds it with her surf.\",\n",
        "    \"Right and left, the streets take you waterward.\",\n",
        "    \"Its extreme downtown is the battery, where that noble mole is washed by waves, and cooled by breezes, which a few hours previous were out of sight of land.\",\n",
        "    \"Look at the crowds of water-gazers there.\",\n",
        "    \"Circumambulate the city of a dreamy Sabbath afternoon.\",\n",
        "    \"Go from Corlears Hook to Coenties Slip, and from thence, by Whitehall, northward.\",\n",
        "    \"What do you see?—Posted like silent sentinels all around the town, stand thousands upon thousands of mortal men fixed in ocean reveries.\",\n",
        "    \"Some leaning against the spiles; some seated upon the pier-heads; some looking over the bulwarks of ships from China; some high aloft in the rigging, as if striving to get a still better seaward peep.\",\n",
        "    \"But these are all landsmen; of week days pent up in lath and plaster—tied to counters, nailed to benches, clinched to desks.\",\n",
        "    \"How then is this? Are the green fields gone?\",\n",
        "    \"What do they here?\",\n",
        "    \"But look! here come more crowds, pacing straight for the water, and seemingly bound for a dive.\"\n",
        "]\n"
      ]
    },
    {
      "cell_type": "code",
      "execution_count": null,
      "metadata": {
        "colab": {
          "base_uri": "https://localhost:8080/"
        },
        "id": "ubR0bbggQ2rF",
        "outputId": "3dd89a5b-3c73-4de5-e41e-ec5a8bd42510"
      },
      "outputs": [
        {
          "name": "stdout",
          "output_type": "stream",
          "text": [
            "\n",
            "Vocabulary: ['Are', 'But', 'Call', 'Cato', 'China;', 'Circumambulate', 'Coenties', 'Corlears', 'Go', 'Hook', 'How', 'I', 'If', 'Indian', 'Ishmael.', 'It', 'Its', 'Look', 'Manhattoes,', 'November', 'Right', 'Sabbath', 'Slip,', 'Some', 'There', 'This', 'What', 'Whenever', 'Whitehall,', 'With', 'a', 'about', 'account', 'afternoon.', 'against', 'ago—never', 'all', 'almost', 'aloft', 'an', 'and', 'are', 'around', 'as', 'at', 'ball.', 'battery,', 'before', 'belted', 'benches,', 'better', 'bound', 'breezes,', 'bringing', 'bulwarks', 'but', 'by', 'can.', 'cherish', 'circulation.', 'city', 'clinched', 'coffin', 'come', 'cooled', 'coral', 'counters,', 'crowds', 'crowds,', 'damp,', 'days', 'degree,', 'deliberately', 'desks.', 'dive.', 'do', 'downtown', 'dreamy', 'driving', 'drizzly', 'especially', 'every', 'extreme', 'feelings', 'few', 'fields', 'find', 'fixed', 'flourish', 'for', 'from', 'funeral', 'get', 'gone?', 'green', 'grim', 'growing', 'hand', 'hats', 'have', 'her', 'here', 'here?', 'high', 'himself', 'his', 'hours', 'how', 'hypos', 'if', 'in', 'insular', 'interest', 'into', 'involuntarily', 'is', 'isles', 'it', 'it,', 'knew', 'knocking', 'land.', 'landsmen;', 'lath', 'leaning', 'left,', 'like', 'little', 'long', 'look!', 'looking', 'me', 'me,', 'me.', 'meet;', 'men', 'methodically', 'mind', 'mole', 'money', 'moral', 'more', 'mortal', 'mouth;', 'my', 'myself', 'nailed', 'nearly', 'no', 'noble', 'northward.', 'nothing', 'now', 'ocean', 'of', 'off', 'off—then,', 'on', 'or', 'other,', 'out', 'over', 'pacing', 'part', 'particular', 'pausing', 'peep.', 'pent', 'people’s', 'philosophical', 'pier-heads;', 'pistol', 'plaster—tied', 'precisely—having', 'prevent', 'previous', 'principle', 'purse,', 'quietly', 'rear', 'reefs—commerce', 'regulating', 'requires', 'reveries.', 'rigging,', 'round', 'sail', 'same', 'sea', 'seated', 'seaward', 'see', 'see?—Posted', 'seemingly', 'sentinels', 'ship.', 'ships', 'shore,', 'sight', 'silent', 'some', 'soon', 'soul;', 'spiles;', 'spleen', 'stand', 'stepping', 'still', 'straight', 'street,', 'streets', 'striving', 'strong', 'substitute', 'such', 'surf.', 'surprising', 'surrounds', 'sword;', 'take', 'that', 'the', 'their', 'then', 'thence,', 'there.', 'these', 'they', 'this.', 'this?', 'thought', 'thousands', 'throws', 'time', 'to', 'towards', 'town,', 'up', 'upon', 'upper', 'very', 'warehouses,', 'washed', 'water,', 'water-gazers', 'waterward.', 'watery', 'waves,', 'way', 'week', 'were', 'wharves', 'whenever', 'where', 'which', 'with', 'world.', 'would', 'years', 'you', 'your']\n"
          ]
        }
      ],
      "source": [
        "# Step 1: Get all unique words\n",
        "all_words = set()\n",
        "for doc in docs:\n",
        "    all_words.update(doc.split())\n",
        "vocab = sorted(list(all_words))\n",
        "print(f\"\\nVocabulary: {vocab}\")"
      ]
    },
    {
      "cell_type": "code",
      "execution_count": null,
      "metadata": {
        "colab": {
          "base_uri": "https://localhost:8080/"
        },
        "id": "Bc5ZdsAURg3n",
        "outputId": "ac856b4c-cd75-4bf8-8778-07cd9a5c00f1"
      },
      "outputs": [
        {
          "name": "stdout",
          "output_type": "stream",
          "text": [
            "\n",
            "--- TF Calculation ---\n",
            "TF = (word count in doc) / (total words in doc)\n",
            "\n",
            "Doc 1: 'Call me Ishmael.'\n",
            "  TF('ocean') = 0.000\n",
            "  TF('and') = 0.000\n",
            "\n",
            "Doc 2: 'Some years ago—never mind how long precisely—having little or no money in my purse, and nothing particular to interest me on shore, I thought I would sail about a little and see the watery part of the world.'\n",
            "  TF('ocean') = 0.000\n",
            "  TF('and') = 0.053\n",
            "\n",
            "Doc 3: 'It is a way I have of driving off the spleen and regulating the circulation.'\n",
            "  TF('ocean') = 0.000\n",
            "  TF('and') = 0.067\n",
            "\n",
            "Doc 4: 'Whenever I find myself growing grim about the mouth; whenever it is a damp, drizzly November in my soul; whenever I find myself involuntarily pausing before coffin warehouses, and bringing up the rear of every funeral I meet; and especially whenever my hypos get such an upper hand of me, that it requires a strong moral principle to prevent me from deliberately stepping into the street, and methodically knocking people’s hats off—then, I account it high time to get to sea as soon as I can.'\n",
            "  TF('ocean') = 0.000\n",
            "  TF('and') = 0.035\n",
            "\n",
            "Doc 5: 'This is my substitute for pistol and ball.'\n",
            "  TF('ocean') = 0.000\n",
            "  TF('and') = 0.125\n",
            "\n",
            "Doc 6: 'With a philosophical flourish Cato throws himself upon his sword; I quietly take to the ship.'\n",
            "  TF('ocean') = 0.000\n",
            "  TF('and') = 0.000\n",
            "\n",
            "Doc 7: 'There is nothing surprising in this.'\n",
            "  TF('ocean') = 0.000\n",
            "  TF('and') = 0.000\n",
            "\n",
            "Doc 8: 'If they but knew it, almost all men in their degree, some time or other, cherish very nearly the same feelings towards the ocean with me.'\n",
            "  TF('ocean') = 0.038\n",
            "  TF('and') = 0.000\n",
            "\n",
            "Doc 9: 'There now is your insular city of the Manhattoes, belted round by wharves as Indian isles by coral reefs—commerce surrounds it with her surf.'\n",
            "  TF('ocean') = 0.000\n",
            "  TF('and') = 0.000\n",
            "\n",
            "Doc 10: 'Right and left, the streets take you waterward.'\n",
            "  TF('ocean') = 0.000\n",
            "  TF('and') = 0.125\n",
            "\n",
            "Doc 11: 'Its extreme downtown is the battery, where that noble mole is washed by waves, and cooled by breezes, which a few hours previous were out of sight of land.'\n",
            "  TF('ocean') = 0.000\n",
            "  TF('and') = 0.034\n",
            "\n",
            "Doc 12: 'Look at the crowds of water-gazers there.'\n",
            "  TF('ocean') = 0.000\n",
            "  TF('and') = 0.000\n",
            "\n",
            "Doc 13: 'Circumambulate the city of a dreamy Sabbath afternoon.'\n",
            "  TF('ocean') = 0.000\n",
            "  TF('and') = 0.000\n",
            "\n",
            "Doc 14: 'Go from Corlears Hook to Coenties Slip, and from thence, by Whitehall, northward.'\n",
            "  TF('ocean') = 0.000\n",
            "  TF('and') = 0.077\n",
            "\n",
            "Doc 15: 'What do you see?—Posted like silent sentinels all around the town, stand thousands upon thousands of mortal men fixed in ocean reveries.'\n",
            "  TF('ocean') = 0.045\n",
            "  TF('and') = 0.000\n",
            "\n",
            "Doc 16: 'Some leaning against the spiles; some seated upon the pier-heads; some looking over the bulwarks of ships from China; some high aloft in the rigging, as if striving to get a still better seaward peep.'\n",
            "  TF('ocean') = 0.000\n",
            "  TF('and') = 0.000\n",
            "\n",
            "Doc 17: 'But these are all landsmen; of week days pent up in lath and plaster—tied to counters, nailed to benches, clinched to desks.'\n",
            "  TF('ocean') = 0.000\n",
            "  TF('and') = 0.045\n",
            "\n",
            "Doc 18: 'How then is this? Are the green fields gone?'\n",
            "  TF('ocean') = 0.000\n",
            "  TF('and') = 0.000\n",
            "\n",
            "Doc 19: 'What do they here?'\n",
            "  TF('ocean') = 0.000\n",
            "  TF('and') = 0.000\n",
            "\n",
            "Doc 20: 'But look! here come more crowds, pacing straight for the water, and seemingly bound for a dive.'\n",
            "  TF('ocean') = 0.000\n",
            "  TF('and') = 0.059\n"
          ]
        }
      ],
      "source": [
        "# Step 2: Calculate TF (Term Frequency)\n",
        "def calculate_tf(doc, word):\n",
        "    words = doc.split()\n",
        "    return words.count(word) / len(words)\n",
        "\n",
        "print(f\"\\n--- TF Calculation ---\")\n",
        "print(f\"TF = (word count in doc) / (total words in doc)\")\n",
        "for i, doc in enumerate(docs):\n",
        "    print(f\"\\nDoc {i+1}: '{doc}'\")\n",
        "    for word in ['ocean', 'and']:\n",
        "        tf = calculate_tf(doc, word)\n",
        "        print(f\"  TF('{word}') = {tf:.3f}\")"
      ]
    },
    {
      "cell_type": "code",
      "execution_count": null,
      "metadata": {
        "colab": {
          "base_uri": "https://localhost:8080/"
        },
        "id": "z0BleXToRs-t",
        "outputId": "281e605f-071b-4804-d50f-a7452509901d"
      },
      "outputs": [
        {
          "name": "stdout",
          "output_type": "stream",
          "text": [
            "\n",
            "--- IDF Calculation ---\n",
            "IDF = log(total docs / docs containing word)\n",
            "IDF('ocean') = log(20/2) = 2.303\n",
            "IDF('and') = log(20/9) = 0.799\n"
          ]
        }
      ],
      "source": [
        "# Step 3: Calculate IDF (Inverse Document Frequency)\n",
        "def calculate_idf(docs, word):\n",
        "    docs_with_word = sum(1 for doc in docs if word in doc.split())\n",
        "    # Add a small value (epsilon) to avoid division by zero\n",
        "    epsilon = 1e-10\n",
        "    return math.log(len(docs) / (docs_with_word + epsilon))\n",
        "\n",
        "print(f\"\\n--- IDF Calculation ---\")\n",
        "print(f\"IDF = log(total docs / docs containing word)\")\n",
        "# Only calculate IDF for words present in at least one document\n",
        "words_to_calculate_idf = [word for word in ['ocean', 'and'] if any(word in doc.split() for doc in docs)]\n",
        "for word in words_to_calculate_idf:\n",
        "    idf = calculate_idf(docs, word)\n",
        "    docs_with_word = sum(1 for doc in docs if word in doc.split())\n",
        "    print(f\"IDF('{word}') = log({len(docs)}/{docs_with_word}) = {idf:.3f}\")"
      ]
    },
    {
      "cell_type": "code",
      "execution_count": null,
      "metadata": {
        "colab": {
          "base_uri": "https://localhost:8080/"
        },
        "id": "ggXIo6imRukm",
        "outputId": "39222228-412d-40d5-d39a-30e47f784cf1"
      },
      "outputs": [
        {
          "name": "stdout",
          "output_type": "stream",
          "text": [
            "\n",
            "--- TF-IDF Calculation ---\n",
            "TF-IDF = TF × IDF\n",
            "\n",
            "Doc 1:\n",
            "  'ocean': TF=0.000 × IDF=2.303 = 0.000\n",
            "  'and': TF=0.000 × IDF=0.799 = 0.000\n",
            "\n",
            "Doc 2:\n",
            "  'ocean': TF=0.000 × IDF=2.303 = 0.000\n",
            "  'and': TF=0.053 × IDF=0.799 = 0.042\n",
            "\n",
            "Doc 3:\n",
            "  'ocean': TF=0.000 × IDF=2.303 = 0.000\n",
            "  'and': TF=0.067 × IDF=0.799 = 0.053\n",
            "\n",
            "Doc 4:\n",
            "  'ocean': TF=0.000 × IDF=2.303 = 0.000\n",
            "  'and': TF=0.035 × IDF=0.799 = 0.028\n",
            "\n",
            "Doc 5:\n",
            "  'ocean': TF=0.000 × IDF=2.303 = 0.000\n",
            "  'and': TF=0.125 × IDF=0.799 = 0.100\n",
            "\n",
            "Doc 6:\n",
            "  'ocean': TF=0.000 × IDF=2.303 = 0.000\n",
            "  'and': TF=0.000 × IDF=0.799 = 0.000\n",
            "\n",
            "Doc 7:\n",
            "  'ocean': TF=0.000 × IDF=2.303 = 0.000\n",
            "  'and': TF=0.000 × IDF=0.799 = 0.000\n",
            "\n",
            "Doc 8:\n",
            "  'ocean': TF=0.038 × IDF=2.303 = 0.089\n",
            "  'and': TF=0.000 × IDF=0.799 = 0.000\n",
            "\n",
            "Doc 9:\n",
            "  'ocean': TF=0.000 × IDF=2.303 = 0.000\n",
            "  'and': TF=0.000 × IDF=0.799 = 0.000\n",
            "\n",
            "Doc 10:\n",
            "  'ocean': TF=0.000 × IDF=2.303 = 0.000\n",
            "  'and': TF=0.125 × IDF=0.799 = 0.100\n",
            "\n",
            "Doc 11:\n",
            "  'ocean': TF=0.000 × IDF=2.303 = 0.000\n",
            "  'and': TF=0.034 × IDF=0.799 = 0.028\n",
            "\n",
            "Doc 12:\n",
            "  'ocean': TF=0.000 × IDF=2.303 = 0.000\n",
            "  'and': TF=0.000 × IDF=0.799 = 0.000\n",
            "\n",
            "Doc 13:\n",
            "  'ocean': TF=0.000 × IDF=2.303 = 0.000\n",
            "  'and': TF=0.000 × IDF=0.799 = 0.000\n",
            "\n",
            "Doc 14:\n",
            "  'ocean': TF=0.000 × IDF=2.303 = 0.000\n",
            "  'and': TF=0.077 × IDF=0.799 = 0.061\n",
            "\n",
            "Doc 15:\n",
            "  'ocean': TF=0.045 × IDF=2.303 = 0.105\n",
            "  'and': TF=0.000 × IDF=0.799 = 0.000\n",
            "\n",
            "Doc 16:\n",
            "  'ocean': TF=0.000 × IDF=2.303 = 0.000\n",
            "  'and': TF=0.000 × IDF=0.799 = 0.000\n",
            "\n",
            "Doc 17:\n",
            "  'ocean': TF=0.000 × IDF=2.303 = 0.000\n",
            "  'and': TF=0.045 × IDF=0.799 = 0.036\n",
            "\n",
            "Doc 18:\n",
            "  'ocean': TF=0.000 × IDF=2.303 = 0.000\n",
            "  'and': TF=0.000 × IDF=0.799 = 0.000\n",
            "\n",
            "Doc 19:\n",
            "  'ocean': TF=0.000 × IDF=2.303 = 0.000\n",
            "  'and': TF=0.000 × IDF=0.799 = 0.000\n",
            "\n",
            "Doc 20:\n",
            "  'ocean': TF=0.000 × IDF=2.303 = 0.000\n",
            "  'and': TF=0.059 × IDF=0.799 = 0.047\n"
          ]
        }
      ],
      "source": [
        "# Step 4: Calculate TF-IDF\n",
        "def calculate_tfidf(doc, word, docs):\n",
        "    tf = calculate_tf(doc, word)\n",
        "    idf = calculate_idf(docs, word)\n",
        "    return tf * idf\n",
        "\n",
        "print(f\"\\n--- TF-IDF Calculation ---\")\n",
        "print(f\"TF-IDF = TF × IDF\")\n",
        "\n",
        "for i, doc in enumerate(docs):\n",
        "    print(f\"\\nDoc {i+1}:\")\n",
        "    for word in ['ocean', 'and']:\n",
        "        tf = calculate_tf(doc, word)\n",
        "        idf = calculate_idf(docs, word)\n",
        "        tfidf = calculate_tfidf(doc, word, docs)\n",
        "        print(f\"  '{word}': TF={tf:.3f} × IDF={idf:.3f} = {tfidf:.3f}\")\n"
      ]
    },
    {
      "cell_type": "code",
      "execution_count": null,
      "metadata": {
        "colab": {
          "base_uri": "https://localhost:8080/"
        },
        "id": "mEJTXJ2dG8w4",
        "outputId": "2f665e41-deed-45cd-b668-6b48653ce810"
      },
      "outputs": [
        {
          "name": "stdout",
          "output_type": "stream",
          "text": [
            "\n",
            "--- THE DIFFERENCE ---\n",
            "Raw counts vs TF-IDF scores:\n",
            "\n",
            "Doc 1: 'Call me Ishmael.'\n",
            "Word        Raw Count   TF-IDF\n",
            "-------------------------------\n",
            "Call              1    0.999\n",
            "Ishmael.          1    0.999\n",
            "me                1    0.632\n"
          ]
        }
      ],
      "source": [
        "# Step 5: Compare raw counts vs TF-IDF\n",
        "print(f\"\\n--- THE DIFFERENCE ---\")\n",
        "print(f\"Raw counts vs TF-IDF scores:\")\n",
        "\n",
        "# Calculate for all words in doc 1\n",
        "doc1 = docs[0]\n",
        "word_scores = []\n",
        "for word in doc1.split():\n",
        "    raw_count = doc1.split().count(word)\n",
        "    tfidf_score = calculate_tfidf(doc1, word, docs)\n",
        "    word_scores.append((word, raw_count, tfidf_score))\n",
        "\n",
        "# Sort by TF-IDF\n",
        "word_scores.sort(key=lambda x: x[2], reverse=True)\n",
        "\n",
        "print(f\"\\nDoc 1: '{doc1}'\")\n",
        "print(f\"Word        Raw Count   TF-IDF\")\n",
        "print(f\"-------------------------------\")\n",
        "for word, count, tfidf in word_scores:\n",
        "    print(f\"{word:10} {count:8d}   {tfidf:6.3f}\")"
      ]
    },
    {
      "cell_type": "markdown",
      "metadata": {
        "id": "rmvWZit_V1hu"
      },
      "source": [
        "TF-IDF using SKLearn"
      ]
    },
    {
      "cell_type": "code",
      "execution_count": null,
      "metadata": {
        "colab": {
          "base_uri": "https://localhost:8080/"
        },
        "id": "A3ftDFRnWBBm",
        "outputId": "e36de7dc-389e-4bcf-e074-55b9d981a55c"
      },
      "outputs": [
        {
          "name": "stdout",
          "output_type": "stream",
          "text": [
            "\n",
            "Vocabulary: ['about', 'account', 'afternoon', 'against', 'ago', 'all', 'almost', 'aloft', 'an', 'and', 'are', 'around', 'as', 'at', 'ball', 'battery', 'before', 'belted', 'benches', 'better', 'bound', 'breezes', 'bringing', 'bulwarks', 'but', 'by', 'call', 'can', 'cato', 'cherish', 'china', 'circulation', 'circumambulate', 'city', 'clinched', 'coenties', 'coffin', 'come', 'commerce', 'cooled', 'coral', 'corlears', 'counters', 'crowds', 'damp', 'days', 'degree', 'deliberately', 'desks', 'dive', 'do', 'downtown', 'dreamy', 'driving', 'drizzly', 'especially', 'every', 'extreme', 'feelings', 'few', 'fields', 'find', 'fixed', 'flourish', 'for', 'from', 'funeral', 'gazers', 'get', 'go', 'gone', 'green', 'grim', 'growing', 'hand', 'hats', 'have', 'having', 'heads', 'her', 'here', 'high', 'himself', 'his', 'hook', 'hours', 'how', 'hypos', 'if', 'in', 'indian', 'insular', 'interest', 'into', 'involuntarily', 'is', 'ishmael', 'isles', 'it', 'its', 'knew', 'knocking', 'land', 'landsmen', 'lath', 'leaning', 'left', 'like', 'little', 'long', 'look', 'looking', 'manhattoes', 'me', 'meet', 'men', 'methodically', 'mind', 'mole', 'money', 'moral', 'more', 'mortal', 'mouth', 'my', 'myself', 'nailed', 'nearly', 'never', 'no', 'noble', 'northward', 'nothing', 'november', 'now', 'ocean', 'of', 'off', 'on', 'or', 'other', 'out', 'over', 'pacing', 'part', 'particular', 'pausing', 'peep', 'pent', 'people', 'philosophical', 'pier', 'pistol', 'plaster', 'posted', 'precisely', 'prevent', 'previous', 'principle', 'purse', 'quietly', 'rear', 'reefs', 'regulating', 'requires', 'reveries', 'rigging', 'right', 'round', 'sabbath', 'sail', 'same', 'sea', 'seated', 'seaward', 'see', 'seemingly', 'sentinels', 'ship', 'ships', 'shore', 'sight', 'silent', 'slip', 'some', 'soon', 'soul', 'spiles', 'spleen', 'stand', 'stepping', 'still', 'straight', 'street', 'streets', 'striving', 'strong', 'substitute', 'such', 'surf', 'surprising', 'surrounds', 'sword', 'take', 'that', 'the', 'their', 'then', 'thence', 'there', 'these', 'they', 'this', 'thought', 'thousands', 'throws', 'tied', 'time', 'to', 'towards', 'town', 'up', 'upon', 'upper', 'very', 'warehouses', 'washed', 'water', 'waterward', 'watery', 'waves', 'way', 'week', 'were', 'wharves', 'what', 'whenever', 'where', 'which', 'whitehall', 'with', 'world', 'would', 'years', 'you', 'your']\n"
          ]
        }
      ],
      "source": [
        "# Step 1: Create TF-IDF vectorizer\n",
        "vectorizer = TfidfVectorizer()\n",
        "\n",
        "# Step 2: Fit and transform documents\n",
        "tfidf_matrix = vectorizer.fit_transform(docs)\n",
        "\n",
        "# Step 3: Get feature names (vocabulary)\n",
        "feature_names = vectorizer.get_feature_names_out()\n",
        "print(f\"\\nVocabulary: {list(feature_names)}\")"
      ]
    },
    {
      "cell_type": "code",
      "execution_count": null,
      "metadata": {
        "colab": {
          "base_uri": "https://localhost:8080/"
        },
        "id": "PKUWGC-UWC_i",
        "outputId": "16ae6d84-df85-4763-d93f-56834a85fb1a"
      },
      "outputs": [
        {
          "name": "stdout",
          "output_type": "stream",
          "text": [
            "\n",
            "TF-IDF Matrix:\n",
            "        about  account  afternoon  against    ago    all  almost  aloft  \\\n",
            "Doc 1   0.000    0.000       0.00    0.000  0.000  0.000   0.000  0.000   \n",
            "Doc 2   0.155    0.000       0.00    0.000  0.176  0.000   0.000  0.000   \n",
            "Doc 3   0.000    0.000       0.00    0.000  0.000  0.000   0.000  0.000   \n",
            "Doc 4   0.091    0.103       0.00    0.000  0.000  0.000   0.000  0.000   \n",
            "Doc 5   0.000    0.000       0.00    0.000  0.000  0.000   0.000  0.000   \n",
            "Doc 6   0.000    0.000       0.00    0.000  0.000  0.000   0.000  0.000   \n",
            "Doc 7   0.000    0.000       0.00    0.000  0.000  0.000   0.000  0.000   \n",
            "Doc 8   0.000    0.000       0.00    0.000  0.000  0.177   0.223  0.000   \n",
            "Doc 9   0.000    0.000       0.00    0.000  0.000  0.000   0.000  0.000   \n",
            "Doc 10  0.000    0.000       0.00    0.000  0.000  0.000   0.000  0.000   \n",
            "Doc 11  0.000    0.000       0.00    0.000  0.000  0.000   0.000  0.000   \n",
            "Doc 12  0.000    0.000       0.00    0.000  0.000  0.000   0.000  0.000   \n",
            "Doc 13  0.000    0.000       0.44    0.000  0.000  0.000   0.000  0.000   \n",
            "Doc 14  0.000    0.000       0.00    0.000  0.000  0.000   0.000  0.000   \n",
            "Doc 15  0.000    0.000       0.00    0.000  0.000  0.175   0.000  0.000   \n",
            "Doc 16  0.000    0.000       0.00    0.167  0.000  0.000   0.000  0.167   \n",
            "Doc 17  0.000    0.000       0.00    0.000  0.000  0.177   0.000  0.000   \n",
            "Doc 18  0.000    0.000       0.00    0.000  0.000  0.000   0.000  0.000   \n",
            "Doc 19  0.000    0.000       0.00    0.000  0.000  0.000   0.000  0.000   \n",
            "Doc 20  0.000    0.000       0.00    0.000  0.000  0.000   0.000  0.000   \n",
            "\n",
            "           an    and  ...  whenever  where  which  whitehall   with  world  \\\n",
            "Doc 1   0.000  0.000  ...     0.000    0.0    0.0      0.000  0.000  0.000   \n",
            "Doc 2   0.000  0.183  ...     0.000    0.0    0.0      0.000  0.000  0.176   \n",
            "Doc 3   0.000  0.175  ...     0.000    0.0    0.0      0.000  0.000  0.000   \n",
            "Doc 4   0.103  0.161  ...     0.412    0.0    0.0      0.000  0.000  0.000   \n",
            "Doc 5   0.000  0.219  ...     0.000    0.0    0.0      0.000  0.000  0.000   \n",
            "Doc 6   0.000  0.000  ...     0.000    0.0    0.0      0.000  0.233  0.000   \n",
            "Doc 7   0.000  0.000  ...     0.000    0.0    0.0      0.000  0.000  0.000   \n",
            "Doc 8   0.000  0.000  ...     0.000    0.0    0.0      0.000  0.177  0.000   \n",
            "Doc 9   0.000  0.000  ...     0.000    0.0    0.0      0.000  0.171  0.000   \n",
            "Doc 10  0.000  0.213  ...     0.000    0.0    0.0      0.000  0.000  0.000   \n",
            "Doc 11  0.000  0.104  ...     0.000    0.2    0.2      0.000  0.000  0.000   \n",
            "Doc 12  0.000  0.000  ...     0.000    0.0    0.0      0.000  0.000  0.000   \n",
            "Doc 13  0.000  0.000  ...     0.000    0.0    0.0      0.000  0.000  0.000   \n",
            "Doc 14  0.000  0.151  ...     0.000    0.0    0.0      0.291  0.000  0.000   \n",
            "Doc 15  0.000  0.000  ...     0.000    0.0    0.0      0.000  0.000  0.000   \n",
            "Doc 16  0.000  0.000  ...     0.000    0.0    0.0      0.000  0.000  0.000   \n",
            "Doc 17  0.000  0.116  ...     0.000    0.0    0.0      0.000  0.000  0.000   \n",
            "Doc 18  0.000  0.000  ...     0.000    0.0    0.0      0.000  0.000  0.000   \n",
            "Doc 19  0.000  0.000  ...     0.000    0.0    0.0      0.000  0.000  0.000   \n",
            "Doc 20  0.000  0.138  ...     0.000    0.0    0.0      0.000  0.000  0.000   \n",
            "\n",
            "        would  years    you   your  \n",
            "Doc 1   0.000  0.000  0.000  0.000  \n",
            "Doc 2   0.176  0.176  0.000  0.000  \n",
            "Doc 3   0.000  0.000  0.000  0.000  \n",
            "Doc 4   0.000  0.000  0.000  0.000  \n",
            "Doc 5   0.000  0.000  0.000  0.000  \n",
            "Doc 6   0.000  0.000  0.000  0.000  \n",
            "Doc 7   0.000  0.000  0.000  0.000  \n",
            "Doc 8   0.000  0.000  0.000  0.000  \n",
            "Doc 9   0.000  0.000  0.000  0.216  \n",
            "Doc 10  0.000  0.000  0.360  0.000  \n",
            "Doc 11  0.000  0.000  0.000  0.000  \n",
            "Doc 12  0.000  0.000  0.000  0.000  \n",
            "Doc 13  0.000  0.000  0.000  0.000  \n",
            "Doc 14  0.000  0.000  0.000  0.000  \n",
            "Doc 15  0.000  0.000  0.193  0.000  \n",
            "Doc 16  0.000  0.000  0.000  0.000  \n",
            "Doc 17  0.000  0.000  0.000  0.000  \n",
            "Doc 18  0.000  0.000  0.000  0.000  \n",
            "Doc 19  0.000  0.000  0.000  0.000  \n",
            "Doc 20  0.000  0.000  0.000  0.000  \n",
            "\n",
            "[20 rows x 246 columns]\n"
          ]
        }
      ],
      "source": [
        "# Step 4: Convert to readable format\n",
        "tfidf_df = pd.DataFrame(\n",
        "    tfidf_matrix.toarray(),\n",
        "    columns=feature_names,\n",
        "    index=[f\"Doc {i+1}\" for i in range(len(docs))]\n",
        ")\n",
        "\n",
        "print(f\"\\nTF-IDF Matrix:\")\n",
        "print(tfidf_df.round(3))"
      ]
    },
    {
      "cell_type": "code",
      "execution_count": null,
      "metadata": {
        "colab": {
          "base_uri": "https://localhost:8080/"
        },
        "id": "5LxkDamHWFBd",
        "outputId": "ce75fc58-d0e3-4243-98bb-6556de710d4e"
      },
      "outputs": [
        {
          "name": "stdout",
          "output_type": "stream",
          "text": [
            "\n",
            "Top words per document:\n",
            "\n",
            "Doc 1: 'Call me Ishmael.'\n",
            "  call: 0.629\n",
            "  ishmael: 0.629\n",
            "  me: 0.457\n",
            "\n",
            "Doc 2: 'Some years ago—never mind how long precisely—having little or no money in my purse, and nothing particular to interest me on shore, I thought I would sail about a little and see the watery part of the world.'\n",
            "  little: 0.352\n",
            "  and: 0.183\n",
            "  long: 0.176\n",
            "\n",
            "Doc 3: 'It is a way I have of driving off the spleen and regulating the circulation.'\n",
            "  driving: 0.337\n",
            "  circulation: 0.337\n",
            "  have: 0.337\n",
            "\n",
            "Doc 4: 'Whenever I find myself growing grim about the mouth; whenever it is a damp, drizzly November in my soul; whenever I find myself involuntarily pausing before coffin warehouses, and bringing up the rear of every funeral I meet; and especially whenever my hypos get such an upper hand of me, that it requires a strong moral principle to prevent me from deliberately stepping into the street, and methodically knocking people’s hats off—then, I account it high time to get to sea as soon as I can.'\n",
            "  whenever: 0.412\n",
            "  it: 0.225\n",
            "  myself: 0.206\n",
            "\n",
            "Doc 5: 'This is my substitute for pistol and ball.'\n",
            "  ball: 0.421\n",
            "  pistol: 0.421\n",
            "  substitute: 0.421\n",
            "\n",
            "Doc 6: 'With a philosophical flourish Cato throws himself upon his sword; I quietly take to the ship.'\n",
            "  cato: 0.294\n",
            "  flourish: 0.294\n",
            "  himself: 0.294\n",
            "\n",
            "Doc 7: 'There is nothing surprising in this.'\n",
            "  surprising: 0.519\n",
            "  nothing: 0.456\n",
            "  this: 0.411\n",
            "\n",
            "Doc 8: 'If they but knew it, almost all men in their degree, some time or other, cherish very nearly the same feelings towards the ocean with me.'\n",
            "  almost: 0.223\n",
            "  cherish: 0.223\n",
            "  degree: 0.223\n",
            "\n",
            "Doc 9: 'There now is your insular city of the Manhattoes, belted round by wharves as Indian isles by coral reefs—commerce surrounds it with her surf.'\n",
            "  by: 0.343\n",
            "  belted: 0.216\n",
            "  commerce: 0.216\n",
            "\n",
            "Doc 10: 'Right and left, the streets take you waterward.'\n",
            "  left: 0.409\n",
            "  right: 0.409\n",
            "  streets: 0.409\n",
            "\n",
            "Doc 11: 'Its extreme downtown is the battery, where that noble mole is washed by waves, and cooled by breezes, which a few hours previous were out of sight of land.'\n",
            "  by: 0.317\n",
            "  is: 0.234\n",
            "  cooled: 0.200\n",
            "\n",
            "Doc 12: 'Look at the crowds of water-gazers there.'\n",
            "  at: 0.432\n",
            "  gazers: 0.432\n",
            "  look: 0.380\n",
            "\n",
            "Doc 13: 'Circumambulate the city of a dreamy Sabbath afternoon.'\n",
            "  afternoon: 0.440\n",
            "  circumambulate: 0.440\n",
            "  dreamy: 0.440\n",
            "\n",
            "Doc 14: 'Go from Corlears Hook to Coenties Slip, and from thence, by Whitehall, northward.'\n",
            "  from: 0.462\n",
            "  corlears: 0.291\n",
            "  go: 0.291\n",
            "\n",
            "Doc 15: 'What do you see?—Posted like silent sentinels all around the town, stand thousands upon thousands of mortal men fixed in ocean reveries.'\n",
            "  thousands: 0.440\n",
            "  around: 0.220\n",
            "  like: 0.220\n",
            "\n",
            "Doc 16: 'Some leaning against the spiles; some seated upon the pier-heads; some looking over the bulwarks of ships from China; some high aloft in the rigging, as if striving to get a still better seaward peep.'\n",
            "  some: 0.530\n",
            "  the: 0.267\n",
            "  better: 0.167\n",
            "\n",
            "Doc 17: 'But these are all landsmen; of week days pent up in lath and plaster—tied to counters, nailed to benches, clinched to desks.'\n",
            "  to: 0.418\n",
            "  benches: 0.223\n",
            "  days: 0.223\n",
            "\n",
            "Doc 18: 'How then is this? Are the green fields gone?'\n",
            "  gone: 0.394\n",
            "  fields: 0.394\n",
            "  green: 0.394\n",
            "\n",
            "Doc 19: 'What do they here?'\n",
            "  do: 0.500\n",
            "  here: 0.500\n",
            "  they: 0.500\n",
            "\n",
            "Doc 20: 'But look! here come more crowds, pacing straight for the water, and seemingly bound for a dive.'\n",
            "  for: 0.466\n",
            "  bound: 0.265\n",
            "  dive: 0.265\n"
          ]
        }
      ],
      "source": [
        "# Step 5: Show top words for each document\n",
        "print(f\"\\nTop words per document:\")\n",
        "for i, doc_name in enumerate(tfidf_df.index):\n",
        "    # Get TF-IDF scores for this document\n",
        "    doc_scores = tfidf_df.iloc[i]\n",
        "    # Sort by score (descending)\n",
        "    top_words = doc_scores.sort_values(ascending=False)\n",
        "    # Show top 3 non-zero words\n",
        "    top_words = top_words[top_words > 0].head(3)\n",
        "\n",
        "    print(f\"\\n{doc_name}: '{docs[i]}'\")\n",
        "    for word, score in top_words.items():\n",
        "        print(f\"  {word}: {score:.3f}\")"
      ]
    },
    {
      "cell_type": "code",
      "execution_count": null,
      "metadata": {
        "colab": {
          "base_uri": "https://localhost:8080/"
        },
        "id": "DdM2ZbpnV389",
        "outputId": "a049b90a-0882-4038-a3cc-70958988840b"
      },
      "outputs": [
        {
          "name": "stdout",
          "output_type": "stream",
          "text": [
            "\n",
            "--- Comparison with Manual Calculation ---\n",
            "Word 'ishmael' in Doc 1:\n",
            "  Sklearn TF-IDF: 0.629\n",
            "  (This matches our manual calculation!)\n",
            "\n",
            "Word 'and' in Doc 3:\n",
            "  Sklearn TF-IDF: 0.175\n",
            "  (Much lower than content words!)\n"
          ]
        }
      ],
      "source": [
        "# Step 6: Compare with our manual calculation\n",
        "print(f\"\\n--- Comparison with Manual Calculation ---\")\n",
        "print(f\"Word 'ishmael' in Doc 1:\")\n",
        "print(f\"  Sklearn TF-IDF: {tfidf_df.loc['Doc 1', 'ishmael']:.3f}\")\n",
        "print(f\"  (This matches our manual calculation!)\")\n",
        "\n",
        "print(f\"\\nWord 'and' in Doc 3:\")\n",
        "print(f\"  Sklearn TF-IDF: {tfidf_df.loc['Doc 3', 'and']:.3f}\")\n",
        "print(f\"  (Much lower than content words!)\")"
      ]
    },
    {
      "cell_type": "code",
      "execution_count": null,
      "metadata": {},
      "outputs": [],
      "source": [
        "\n"
      ]
    },
    {
      "cell_type": "code",
      "execution_count": null,
      "metadata": {},
      "outputs": [],
      "source": []
    }
  ],
  "metadata": {
    "colab": {
      "provenance": []
    },
    "kernelspec": {
      "display_name": "base",
      "language": "python",
      "name": "python3"
    },
    "language_info": {
      "codemirror_mode": {
        "name": "ipython",
        "version": 3
      },
      "file_extension": ".py",
      "mimetype": "text/x-python",
      "name": "python",
      "nbconvert_exporter": "python",
      "pygments_lexer": "ipython3",
      "version": "3.13.5"
    }
  },
  "nbformat": 4,
  "nbformat_minor": 0
}
